{
  "cells": [
    {
      "cell_type": "code",
      "execution_count": null,
      "metadata": {
        "id": "GcGD9Y4HJsY2"
      },
      "outputs": [],
      "source": [
        "import pandas as pd"
      ]
    },
    {
      "cell_type": "code",
      "source": [
        "pd.__version__"
      ],
      "metadata": {
        "colab": {
          "base_uri": "https://localhost:8080/",
          "height": 35
        },
        "id": "K7Vi1oZPPuVn",
        "outputId": "1d9dca61-1b0d-46b7-8858-8c9bc712341b"
      },
      "execution_count": null,
      "outputs": [
        {
          "output_type": "execute_result",
          "data": {
            "text/plain": [
              "'1.3.5'"
            ],
            "application/vnd.google.colaboratory.intrinsic+json": {
              "type": "string"
            }
          },
          "metadata": {},
          "execution_count": 2
        }
      ]
    },
    {
      "cell_type": "code",
      "source": [
        "from google.colab import drive\n",
        "drive.mount('/content/drive')"
      ],
      "metadata": {
        "colab": {
          "base_uri": "https://localhost:8080/"
        },
        "id": "n8QSwfSKcReI",
        "outputId": "8ce95cc9-70df-4356-9d27-1c918541737a"
      },
      "execution_count": null,
      "outputs": [
        {
          "output_type": "stream",
          "name": "stdout",
          "text": [
            "Mounted at /content/drive\n"
          ]
        }
      ]
    },
    {
      "cell_type": "code",
      "execution_count": null,
      "metadata": {
        "id": "lf1ObVtmKCQQ"
      },
      "outputs": [],
      "source": [
        "data=pd.read_csv(\"/content/drive/MyDrive/Dataset/Sentimental analysis dataset(1) .csv\")"
      ]
    },
    {
      "cell_type": "code",
      "execution_count": null,
      "metadata": {
        "colab": {
          "base_uri": "https://localhost:8080/",
          "height": 206
        },
        "id": "PCG1L3XrKF3H",
        "outputId": "3eda8d45-2659-4053-cd8b-8c5958771eae"
      },
      "outputs": [
        {
          "output_type": "execute_result",
          "data": {
            "text/plain": [
              "   sent_id                                           sentence sentiment\n",
              "0        1  பின்னணி இசையிலும் பின்னி பெடலெடுத்துள்ளார் சந்...  positive\n",
              "1        2  ரஞ்சித் சூப்பர்ஸ்டாரை தன்னுடைய கதைக்கேற்ப முழு...   neutral\n",
              "2        3  படத்தில் தன்னுடைய வழக்கமான பல சிம்பாளிக் காட்ச...   neutral\n",
              "3        4                         வசனங்களில் அசத்தியுள்ளார்.  positive\n",
              "4        5  அவருக்கே உரிய பாணியில் வழக்கம்போல் அழகாக நடித்...  positive"
            ],
            "text/html": [
              "\n",
              "  <div id=\"df-c4534179-d7cc-49e6-bba2-5dd9e43505f2\">\n",
              "    <div class=\"colab-df-container\">\n",
              "      <div>\n",
              "<style scoped>\n",
              "    .dataframe tbody tr th:only-of-type {\n",
              "        vertical-align: middle;\n",
              "    }\n",
              "\n",
              "    .dataframe tbody tr th {\n",
              "        vertical-align: top;\n",
              "    }\n",
              "\n",
              "    .dataframe thead th {\n",
              "        text-align: right;\n",
              "    }\n",
              "</style>\n",
              "<table border=\"1\" class=\"dataframe\">\n",
              "  <thead>\n",
              "    <tr style=\"text-align: right;\">\n",
              "      <th></th>\n",
              "      <th>sent_id</th>\n",
              "      <th>sentence</th>\n",
              "      <th>sentiment</th>\n",
              "    </tr>\n",
              "  </thead>\n",
              "  <tbody>\n",
              "    <tr>\n",
              "      <th>0</th>\n",
              "      <td>1</td>\n",
              "      <td>பின்னணி இசையிலும் பின்னி பெடலெடுத்துள்ளார் சந்...</td>\n",
              "      <td>positive</td>\n",
              "    </tr>\n",
              "    <tr>\n",
              "      <th>1</th>\n",
              "      <td>2</td>\n",
              "      <td>ரஞ்சித் சூப்பர்ஸ்டாரை தன்னுடைய கதைக்கேற்ப முழு...</td>\n",
              "      <td>neutral</td>\n",
              "    </tr>\n",
              "    <tr>\n",
              "      <th>2</th>\n",
              "      <td>3</td>\n",
              "      <td>படத்தில் தன்னுடைய வழக்கமான பல சிம்பாளிக் காட்ச...</td>\n",
              "      <td>neutral</td>\n",
              "    </tr>\n",
              "    <tr>\n",
              "      <th>3</th>\n",
              "      <td>4</td>\n",
              "      <td>வசனங்களில் அசத்தியுள்ளார்.</td>\n",
              "      <td>positive</td>\n",
              "    </tr>\n",
              "    <tr>\n",
              "      <th>4</th>\n",
              "      <td>5</td>\n",
              "      <td>அவருக்கே உரிய பாணியில் வழக்கம்போல் அழகாக நடித்...</td>\n",
              "      <td>positive</td>\n",
              "    </tr>\n",
              "  </tbody>\n",
              "</table>\n",
              "</div>\n",
              "      <button class=\"colab-df-convert\" onclick=\"convertToInteractive('df-c4534179-d7cc-49e6-bba2-5dd9e43505f2')\"\n",
              "              title=\"Convert this dataframe to an interactive table.\"\n",
              "              style=\"display:none;\">\n",
              "        \n",
              "  <svg xmlns=\"http://www.w3.org/2000/svg\" height=\"24px\"viewBox=\"0 0 24 24\"\n",
              "       width=\"24px\">\n",
              "    <path d=\"M0 0h24v24H0V0z\" fill=\"none\"/>\n",
              "    <path d=\"M18.56 5.44l.94 2.06.94-2.06 2.06-.94-2.06-.94-.94-2.06-.94 2.06-2.06.94zm-11 1L8.5 8.5l.94-2.06 2.06-.94-2.06-.94L8.5 2.5l-.94 2.06-2.06.94zm10 10l.94 2.06.94-2.06 2.06-.94-2.06-.94-.94-2.06-.94 2.06-2.06.94z\"/><path d=\"M17.41 7.96l-1.37-1.37c-.4-.4-.92-.59-1.43-.59-.52 0-1.04.2-1.43.59L10.3 9.45l-7.72 7.72c-.78.78-.78 2.05 0 2.83L4 21.41c.39.39.9.59 1.41.59.51 0 1.02-.2 1.41-.59l7.78-7.78 2.81-2.81c.8-.78.8-2.07 0-2.86zM5.41 20L4 18.59l7.72-7.72 1.47 1.35L5.41 20z\"/>\n",
              "  </svg>\n",
              "      </button>\n",
              "      \n",
              "  <style>\n",
              "    .colab-df-container {\n",
              "      display:flex;\n",
              "      flex-wrap:wrap;\n",
              "      gap: 12px;\n",
              "    }\n",
              "\n",
              "    .colab-df-convert {\n",
              "      background-color: #E8F0FE;\n",
              "      border: none;\n",
              "      border-radius: 50%;\n",
              "      cursor: pointer;\n",
              "      display: none;\n",
              "      fill: #1967D2;\n",
              "      height: 32px;\n",
              "      padding: 0 0 0 0;\n",
              "      width: 32px;\n",
              "    }\n",
              "\n",
              "    .colab-df-convert:hover {\n",
              "      background-color: #E2EBFA;\n",
              "      box-shadow: 0px 1px 2px rgba(60, 64, 67, 0.3), 0px 1px 3px 1px rgba(60, 64, 67, 0.15);\n",
              "      fill: #174EA6;\n",
              "    }\n",
              "\n",
              "    [theme=dark] .colab-df-convert {\n",
              "      background-color: #3B4455;\n",
              "      fill: #D2E3FC;\n",
              "    }\n",
              "\n",
              "    [theme=dark] .colab-df-convert:hover {\n",
              "      background-color: #434B5C;\n",
              "      box-shadow: 0px 1px 3px 1px rgba(0, 0, 0, 0.15);\n",
              "      filter: drop-shadow(0px 1px 2px rgba(0, 0, 0, 0.3));\n",
              "      fill: #FFFFFF;\n",
              "    }\n",
              "  </style>\n",
              "\n",
              "      <script>\n",
              "        const buttonEl =\n",
              "          document.querySelector('#df-c4534179-d7cc-49e6-bba2-5dd9e43505f2 button.colab-df-convert');\n",
              "        buttonEl.style.display =\n",
              "          google.colab.kernel.accessAllowed ? 'block' : 'none';\n",
              "\n",
              "        async function convertToInteractive(key) {\n",
              "          const element = document.querySelector('#df-c4534179-d7cc-49e6-bba2-5dd9e43505f2');\n",
              "          const dataTable =\n",
              "            await google.colab.kernel.invokeFunction('convertToInteractive',\n",
              "                                                     [key], {});\n",
              "          if (!dataTable) return;\n",
              "\n",
              "          const docLinkHtml = 'Like what you see? Visit the ' +\n",
              "            '<a target=\"_blank\" href=https://colab.research.google.com/notebooks/data_table.ipynb>data table notebook</a>'\n",
              "            + ' to learn more about interactive tables.';\n",
              "          element.innerHTML = '';\n",
              "          dataTable['output_type'] = 'display_data';\n",
              "          await google.colab.output.renderOutput(dataTable, element);\n",
              "          const docLink = document.createElement('div');\n",
              "          docLink.innerHTML = docLinkHtml;\n",
              "          element.appendChild(docLink);\n",
              "        }\n",
              "      </script>\n",
              "    </div>\n",
              "  </div>\n",
              "  "
            ]
          },
          "metadata": {},
          "execution_count": 4
        }
      ],
      "source": [
        "data.head()"
      ]
    },
    {
      "cell_type": "code",
      "execution_count": null,
      "metadata": {
        "colab": {
          "base_uri": "https://localhost:8080/"
        },
        "id": "26eyqYh_6-zj",
        "outputId": "a55d144a-1f3a-4fc3-f388-443fa1f9181f"
      },
      "outputs": [
        {
          "output_type": "stream",
          "name": "stdout",
          "text": [
            "<class 'pandas.core.frame.DataFrame'>\n",
            "RangeIndex: 450 entries, 0 to 449\n",
            "Data columns (total 3 columns):\n",
            " #   Column     Non-Null Count  Dtype \n",
            "---  ------     --------------  ----- \n",
            " 0   sent_id    450 non-null    int64 \n",
            " 1   sentence   450 non-null    object\n",
            " 2   sentiment  450 non-null    object\n",
            "dtypes: int64(1), object(2)\n",
            "memory usage: 10.7+ KB\n"
          ]
        }
      ],
      "source": [
        "data.info()"
      ]
    },
    {
      "cell_type": "code",
      "execution_count": null,
      "metadata": {
        "colab": {
          "base_uri": "https://localhost:8080/",
          "height": 424
        },
        "id": "s_R_jm-J7B2E",
        "outputId": "9d96131d-be13-412b-ee71-526b643e07cd"
      },
      "outputs": [
        {
          "output_type": "execute_result",
          "data": {
            "text/plain": [
              "     sent_id  sentence  sentiment\n",
              "0      False     False      False\n",
              "1      False     False      False\n",
              "2      False     False      False\n",
              "3      False     False      False\n",
              "4      False     False      False\n",
              "..       ...       ...        ...\n",
              "445    False     False      False\n",
              "446    False     False      False\n",
              "447    False     False      False\n",
              "448    False     False      False\n",
              "449    False     False      False\n",
              "\n",
              "[450 rows x 3 columns]"
            ],
            "text/html": [
              "\n",
              "  <div id=\"df-6391d842-dca0-4c5b-a7a5-2523d163e291\">\n",
              "    <div class=\"colab-df-container\">\n",
              "      <div>\n",
              "<style scoped>\n",
              "    .dataframe tbody tr th:only-of-type {\n",
              "        vertical-align: middle;\n",
              "    }\n",
              "\n",
              "    .dataframe tbody tr th {\n",
              "        vertical-align: top;\n",
              "    }\n",
              "\n",
              "    .dataframe thead th {\n",
              "        text-align: right;\n",
              "    }\n",
              "</style>\n",
              "<table border=\"1\" class=\"dataframe\">\n",
              "  <thead>\n",
              "    <tr style=\"text-align: right;\">\n",
              "      <th></th>\n",
              "      <th>sent_id</th>\n",
              "      <th>sentence</th>\n",
              "      <th>sentiment</th>\n",
              "    </tr>\n",
              "  </thead>\n",
              "  <tbody>\n",
              "    <tr>\n",
              "      <th>0</th>\n",
              "      <td>False</td>\n",
              "      <td>False</td>\n",
              "      <td>False</td>\n",
              "    </tr>\n",
              "    <tr>\n",
              "      <th>1</th>\n",
              "      <td>False</td>\n",
              "      <td>False</td>\n",
              "      <td>False</td>\n",
              "    </tr>\n",
              "    <tr>\n",
              "      <th>2</th>\n",
              "      <td>False</td>\n",
              "      <td>False</td>\n",
              "      <td>False</td>\n",
              "    </tr>\n",
              "    <tr>\n",
              "      <th>3</th>\n",
              "      <td>False</td>\n",
              "      <td>False</td>\n",
              "      <td>False</td>\n",
              "    </tr>\n",
              "    <tr>\n",
              "      <th>4</th>\n",
              "      <td>False</td>\n",
              "      <td>False</td>\n",
              "      <td>False</td>\n",
              "    </tr>\n",
              "    <tr>\n",
              "      <th>...</th>\n",
              "      <td>...</td>\n",
              "      <td>...</td>\n",
              "      <td>...</td>\n",
              "    </tr>\n",
              "    <tr>\n",
              "      <th>445</th>\n",
              "      <td>False</td>\n",
              "      <td>False</td>\n",
              "      <td>False</td>\n",
              "    </tr>\n",
              "    <tr>\n",
              "      <th>446</th>\n",
              "      <td>False</td>\n",
              "      <td>False</td>\n",
              "      <td>False</td>\n",
              "    </tr>\n",
              "    <tr>\n",
              "      <th>447</th>\n",
              "      <td>False</td>\n",
              "      <td>False</td>\n",
              "      <td>False</td>\n",
              "    </tr>\n",
              "    <tr>\n",
              "      <th>448</th>\n",
              "      <td>False</td>\n",
              "      <td>False</td>\n",
              "      <td>False</td>\n",
              "    </tr>\n",
              "    <tr>\n",
              "      <th>449</th>\n",
              "      <td>False</td>\n",
              "      <td>False</td>\n",
              "      <td>False</td>\n",
              "    </tr>\n",
              "  </tbody>\n",
              "</table>\n",
              "<p>450 rows × 3 columns</p>\n",
              "</div>\n",
              "      <button class=\"colab-df-convert\" onclick=\"convertToInteractive('df-6391d842-dca0-4c5b-a7a5-2523d163e291')\"\n",
              "              title=\"Convert this dataframe to an interactive table.\"\n",
              "              style=\"display:none;\">\n",
              "        \n",
              "  <svg xmlns=\"http://www.w3.org/2000/svg\" height=\"24px\"viewBox=\"0 0 24 24\"\n",
              "       width=\"24px\">\n",
              "    <path d=\"M0 0h24v24H0V0z\" fill=\"none\"/>\n",
              "    <path d=\"M18.56 5.44l.94 2.06.94-2.06 2.06-.94-2.06-.94-.94-2.06-.94 2.06-2.06.94zm-11 1L8.5 8.5l.94-2.06 2.06-.94-2.06-.94L8.5 2.5l-.94 2.06-2.06.94zm10 10l.94 2.06.94-2.06 2.06-.94-2.06-.94-.94-2.06-.94 2.06-2.06.94z\"/><path d=\"M17.41 7.96l-1.37-1.37c-.4-.4-.92-.59-1.43-.59-.52 0-1.04.2-1.43.59L10.3 9.45l-7.72 7.72c-.78.78-.78 2.05 0 2.83L4 21.41c.39.39.9.59 1.41.59.51 0 1.02-.2 1.41-.59l7.78-7.78 2.81-2.81c.8-.78.8-2.07 0-2.86zM5.41 20L4 18.59l7.72-7.72 1.47 1.35L5.41 20z\"/>\n",
              "  </svg>\n",
              "      </button>\n",
              "      \n",
              "  <style>\n",
              "    .colab-df-container {\n",
              "      display:flex;\n",
              "      flex-wrap:wrap;\n",
              "      gap: 12px;\n",
              "    }\n",
              "\n",
              "    .colab-df-convert {\n",
              "      background-color: #E8F0FE;\n",
              "      border: none;\n",
              "      border-radius: 50%;\n",
              "      cursor: pointer;\n",
              "      display: none;\n",
              "      fill: #1967D2;\n",
              "      height: 32px;\n",
              "      padding: 0 0 0 0;\n",
              "      width: 32px;\n",
              "    }\n",
              "\n",
              "    .colab-df-convert:hover {\n",
              "      background-color: #E2EBFA;\n",
              "      box-shadow: 0px 1px 2px rgba(60, 64, 67, 0.3), 0px 1px 3px 1px rgba(60, 64, 67, 0.15);\n",
              "      fill: #174EA6;\n",
              "    }\n",
              "\n",
              "    [theme=dark] .colab-df-convert {\n",
              "      background-color: #3B4455;\n",
              "      fill: #D2E3FC;\n",
              "    }\n",
              "\n",
              "    [theme=dark] .colab-df-convert:hover {\n",
              "      background-color: #434B5C;\n",
              "      box-shadow: 0px 1px 3px 1px rgba(0, 0, 0, 0.15);\n",
              "      filter: drop-shadow(0px 1px 2px rgba(0, 0, 0, 0.3));\n",
              "      fill: #FFFFFF;\n",
              "    }\n",
              "  </style>\n",
              "\n",
              "      <script>\n",
              "        const buttonEl =\n",
              "          document.querySelector('#df-6391d842-dca0-4c5b-a7a5-2523d163e291 button.colab-df-convert');\n",
              "        buttonEl.style.display =\n",
              "          google.colab.kernel.accessAllowed ? 'block' : 'none';\n",
              "\n",
              "        async function convertToInteractive(key) {\n",
              "          const element = document.querySelector('#df-6391d842-dca0-4c5b-a7a5-2523d163e291');\n",
              "          const dataTable =\n",
              "            await google.colab.kernel.invokeFunction('convertToInteractive',\n",
              "                                                     [key], {});\n",
              "          if (!dataTable) return;\n",
              "\n",
              "          const docLinkHtml = 'Like what you see? Visit the ' +\n",
              "            '<a target=\"_blank\" href=https://colab.research.google.com/notebooks/data_table.ipynb>data table notebook</a>'\n",
              "            + ' to learn more about interactive tables.';\n",
              "          element.innerHTML = '';\n",
              "          dataTable['output_type'] = 'display_data';\n",
              "          await google.colab.output.renderOutput(dataTable, element);\n",
              "          const docLink = document.createElement('div');\n",
              "          docLink.innerHTML = docLinkHtml;\n",
              "          element.appendChild(docLink);\n",
              "        }\n",
              "      </script>\n",
              "    </div>\n",
              "  </div>\n",
              "  "
            ]
          },
          "metadata": {},
          "execution_count": 6
        }
      ],
      "source": [
        "data.isnull()"
      ]
    },
    {
      "cell_type": "code",
      "execution_count": null,
      "metadata": {
        "colab": {
          "base_uri": "https://localhost:8080/"
        },
        "id": "1O4Ym7Wt7FRk",
        "outputId": "da49f0cc-805d-4375-9030-f0cb22edf2dd"
      },
      "outputs": [
        {
          "output_type": "execute_result",
          "data": {
            "text/plain": [
              "array(['positive', 'neutral', 'negative'], dtype=object)"
            ]
          },
          "metadata": {},
          "execution_count": 7
        }
      ],
      "source": [
        "data['sentiment'].unique()"
      ]
    },
    {
      "cell_type": "code",
      "execution_count": null,
      "metadata": {
        "colab": {
          "base_uri": "https://localhost:8080/"
        },
        "id": "wCjHWDn88KTF",
        "outputId": "730cb09c-2f73-4266-86a2-948ea7ed0fb1"
      },
      "outputs": [
        {
          "output_type": "stream",
          "name": "stdout",
          "text": [
            "172 161 117\n"
          ]
        }
      ],
      "source": [
        "p=0\n",
        "ne=0\n",
        "n=0\n",
        "for i in data['sentiment']:\n",
        "  if i == \"positive\":\n",
        "    p=p+1\n",
        "  elif i == \"negative\":\n",
        "    ne=ne+1\n",
        "  elif i == \"neutral\":\n",
        "    n=n+1\n",
        "\n",
        "print(p,ne,n)"
      ]
    },
    {
      "cell_type": "code",
      "execution_count": null,
      "metadata": {
        "id": "PDZYhw1P882D"
      },
      "outputs": [],
      "source": [
        "data['sentiment'].replace(\"neutral\",0,inplace=True)\n",
        "data['sentiment'].replace(\"positive\",1,inplace=True)\n",
        "data['sentiment'].replace(\"negative\",2,inplace=True)\n"
      ]
    },
    {
      "cell_type": "code",
      "execution_count": null,
      "metadata": {
        "colab": {
          "base_uri": "https://localhost:8080/"
        },
        "id": "sBxWF4TQnjQT",
        "outputId": "54dac402-b127-4602-b3a3-526c78d07ccb"
      },
      "outputs": [
        {
          "output_type": "execute_result",
          "data": {
            "text/plain": [
              "array([1, 0, 2])"
            ]
          },
          "metadata": {},
          "execution_count": 10
        }
      ],
      "source": [
        "data['sentiment'].unique()"
      ]
    },
    {
      "cell_type": "code",
      "execution_count": null,
      "metadata": {
        "id": "F3SA5Le9-W_Z"
      },
      "outputs": [],
      "source": [
        "data1=[]\n",
        "data['tokenize']=\"\""
      ]
    },
    {
      "cell_type": "code",
      "execution_count": null,
      "metadata": {
        "colab": {
          "base_uri": "https://localhost:8080/"
        },
        "id": "W6RgpA9d_yb2",
        "outputId": "cac46f33-23b2-4759-dc0e-881e388a4608"
      },
      "outputs": [
        {
          "output_type": "execute_result",
          "data": {
            "text/plain": [
              "450"
            ]
          },
          "metadata": {},
          "execution_count": 12
        }
      ],
      "source": [
        "len(data)"
      ]
    },
    {
      "cell_type": "code",
      "execution_count": null,
      "metadata": {
        "id": "gZoRFTFD02a1",
        "colab": {
          "base_uri": "https://localhost:8080/"
        },
        "outputId": "67345570-0c50-47b9-da48-3c7301643c51"
      },
      "outputs": [
        {
          "output_type": "stream",
          "name": "stdout",
          "text": [
            "Looking in indexes: https://pypi.org/simple, https://us-python.pkg.dev/colab-wheels/public/simple/\n",
            "Collecting trankit\n",
            "  Downloading trankit-1.1.1-py3-none-any.whl (773 kB)\n",
            "\u001b[K     |████████████████████████████████| 773 kB 8.1 MB/s \n",
            "\u001b[?25hRequirement already satisfied: filelock in /usr/local/lib/python3.7/dist-packages (from trankit) (3.8.0)\n",
            "Collecting sacremoses\n",
            "  Downloading sacremoses-0.0.53.tar.gz (880 kB)\n",
            "\u001b[K     |████████████████████████████████| 880 kB 55.0 MB/s \n",
            "\u001b[?25hRequirement already satisfied: requests in /usr/local/lib/python3.7/dist-packages (from trankit) (2.23.0)\n",
            "Collecting langid==1.1.6\n",
            "  Downloading langid-1.1.6.tar.gz (1.9 MB)\n",
            "\u001b[K     |████████████████████████████████| 1.9 MB 48.1 MB/s \n",
            "\u001b[?25hRequirement already satisfied: protobuf in /usr/local/lib/python3.7/dist-packages (from trankit) (3.17.3)\n",
            "Collecting sentencepiece\n",
            "  Downloading sentencepiece-0.1.97-cp37-cp37m-manylinux_2_17_x86_64.manylinux2014_x86_64.whl (1.3 MB)\n",
            "\u001b[K     |████████████████████████████████| 1.3 MB 66.7 MB/s \n",
            "\u001b[?25hRequirement already satisfied: numpy in /usr/local/lib/python3.7/dist-packages (from trankit) (1.21.6)\n",
            "Collecting tokenizers>=0.7.0\n",
            "  Downloading tokenizers-0.13.2-cp37-cp37m-manylinux_2_17_x86_64.manylinux2014_x86_64.whl (7.6 MB)\n",
            "\u001b[K     |████████████████████████████████| 7.6 MB 47.3 MB/s \n",
            "\u001b[?25hRequirement already satisfied: packaging in /usr/local/lib/python3.7/dist-packages (from trankit) (21.3)\n",
            "Requirement already satisfied: tqdm>=4.27 in /usr/local/lib/python3.7/dist-packages (from trankit) (4.64.1)\n",
            "Requirement already satisfied: torch>=1.6.0 in /usr/local/lib/python3.7/dist-packages (from trankit) (1.12.1+cu113)\n",
            "Requirement already satisfied: regex!=2019.12.17 in /usr/local/lib/python3.7/dist-packages (from trankit) (2022.6.2)\n",
            "Requirement already satisfied: typing-extensions in /usr/local/lib/python3.7/dist-packages (from torch>=1.6.0->trankit) (4.1.1)\n",
            "Requirement already satisfied: pyparsing!=3.0.5,>=2.0.2 in /usr/local/lib/python3.7/dist-packages (from packaging->trankit) (3.0.9)\n",
            "Requirement already satisfied: six>=1.9 in /usr/local/lib/python3.7/dist-packages (from protobuf->trankit) (1.15.0)\n",
            "Requirement already satisfied: chardet<4,>=3.0.2 in /usr/local/lib/python3.7/dist-packages (from requests->trankit) (3.0.4)\n",
            "Requirement already satisfied: urllib3!=1.25.0,!=1.25.1,<1.26,>=1.21.1 in /usr/local/lib/python3.7/dist-packages (from requests->trankit) (1.24.3)\n",
            "Requirement already satisfied: idna<3,>=2.5 in /usr/local/lib/python3.7/dist-packages (from requests->trankit) (2.10)\n",
            "Requirement already satisfied: certifi>=2017.4.17 in /usr/local/lib/python3.7/dist-packages (from requests->trankit) (2022.9.24)\n",
            "Requirement already satisfied: click in /usr/local/lib/python3.7/dist-packages (from sacremoses->trankit) (7.1.2)\n",
            "Requirement already satisfied: joblib in /usr/local/lib/python3.7/dist-packages (from sacremoses->trankit) (1.2.0)\n",
            "Building wheels for collected packages: langid, sacremoses\n",
            "  Building wheel for langid (setup.py) ... \u001b[?25l\u001b[?25hdone\n",
            "  Created wheel for langid: filename=langid-1.1.6-py3-none-any.whl size=1941188 sha256=9b73bc6595dabb06a03e13e1ac332443cc6c4e78826eb77f11ec169d06fbf4b4\n",
            "  Stored in directory: /root/.cache/pip/wheels/2b/bb/7f/11e4db39477278161e882eadc46fb558949a28b13470fc74b8\n",
            "  Building wheel for sacremoses (setup.py) ... \u001b[?25l\u001b[?25hdone\n",
            "  Created wheel for sacremoses: filename=sacremoses-0.0.53-py3-none-any.whl size=895260 sha256=cd150b0c4ef121c303de51c6b6e77202306f6d776ac744be0a40fbccd7b97140\n",
            "  Stored in directory: /root/.cache/pip/wheels/87/39/dd/a83eeef36d0bf98e7a4d1933a4ad2d660295a40613079bafc9\n",
            "Successfully built langid sacremoses\n",
            "Installing collected packages: tokenizers, sentencepiece, sacremoses, langid, trankit\n",
            "Successfully installed langid-1.1.6 sacremoses-0.0.53 sentencepiece-0.1.97 tokenizers-0.13.2 trankit-1.1.1\n"
          ]
        }
      ],
      "source": [
        "pip install trankit"
      ]
    },
    {
      "cell_type": "code",
      "execution_count": null,
      "metadata": {
        "id": "4T_gtwWsTWha",
        "colab": {
          "base_uri": "https://localhost:8080/"
        },
        "outputId": "6f265361-3274-4245-ebd8-9a6af08cd10c"
      },
      "outputs": [
        {
          "output_type": "stream",
          "name": "stdout",
          "text": [
            "Looking in indexes: https://pypi.org/simple, https://us-python.pkg.dev/colab-wheels/public/simple/\n",
            "Collecting transformers\n",
            "  Downloading transformers-4.24.0-py3-none-any.whl (5.5 MB)\n",
            "\u001b[K     |████████████████████████████████| 5.5 MB 6.4 MB/s \n",
            "\u001b[?25hRequirement already satisfied: tqdm>=4.27 in /usr/local/lib/python3.7/dist-packages (from transformers) (4.64.1)\n",
            "Requirement already satisfied: pyyaml>=5.1 in /usr/local/lib/python3.7/dist-packages (from transformers) (6.0)\n",
            "Requirement already satisfied: numpy>=1.17 in /usr/local/lib/python3.7/dist-packages (from transformers) (1.21.6)\n",
            "Requirement already satisfied: requests in /usr/local/lib/python3.7/dist-packages (from transformers) (2.23.0)\n",
            "Requirement already satisfied: tokenizers!=0.11.3,<0.14,>=0.11.1 in /usr/local/lib/python3.7/dist-packages (from transformers) (0.13.2)\n",
            "Requirement already satisfied: filelock in /usr/local/lib/python3.7/dist-packages (from transformers) (3.8.0)\n",
            "Requirement already satisfied: regex!=2019.12.17 in /usr/local/lib/python3.7/dist-packages (from transformers) (2022.6.2)\n",
            "Requirement already satisfied: importlib-metadata in /usr/local/lib/python3.7/dist-packages (from transformers) (4.13.0)\n",
            "Collecting huggingface-hub<1.0,>=0.10.0\n",
            "  Downloading huggingface_hub-0.10.1-py3-none-any.whl (163 kB)\n",
            "\u001b[K     |████████████████████████████████| 163 kB 75.2 MB/s \n",
            "\u001b[?25hRequirement already satisfied: packaging>=20.0 in /usr/local/lib/python3.7/dist-packages (from transformers) (21.3)\n",
            "Requirement already satisfied: typing-extensions>=3.7.4.3 in /usr/local/lib/python3.7/dist-packages (from huggingface-hub<1.0,>=0.10.0->transformers) (4.1.1)\n",
            "Requirement already satisfied: pyparsing!=3.0.5,>=2.0.2 in /usr/local/lib/python3.7/dist-packages (from packaging>=20.0->transformers) (3.0.9)\n",
            "Requirement already satisfied: zipp>=0.5 in /usr/local/lib/python3.7/dist-packages (from importlib-metadata->transformers) (3.10.0)\n",
            "Requirement already satisfied: idna<3,>=2.5 in /usr/local/lib/python3.7/dist-packages (from requests->transformers) (2.10)\n",
            "Requirement already satisfied: certifi>=2017.4.17 in /usr/local/lib/python3.7/dist-packages (from requests->transformers) (2022.9.24)\n",
            "Requirement already satisfied: urllib3!=1.25.0,!=1.25.1,<1.26,>=1.21.1 in /usr/local/lib/python3.7/dist-packages (from requests->transformers) (1.24.3)\n",
            "Requirement already satisfied: chardet<4,>=3.0.2 in /usr/local/lib/python3.7/dist-packages (from requests->transformers) (3.0.4)\n",
            "Installing collected packages: huggingface-hub, transformers\n",
            "Successfully installed huggingface-hub-0.10.1 transformers-4.24.0\n"
          ]
        }
      ],
      "source": [
        "pip install transformers"
      ]
    },
    {
      "cell_type": "code",
      "execution_count": null,
      "metadata": {
        "id": "tlXWDaqxTnus"
      },
      "outputs": [],
      "source": [
        "from trankit import Pipeline"
      ]
    },
    {
      "cell_type": "code",
      "execution_count": null,
      "metadata": {
        "id": "DhqCnzf2SOCv",
        "colab": {
          "base_uri": "https://localhost:8080/",
          "height": 287,
          "referenced_widgets": [
            "b378acfd8b1540549e82830a9bc2f041",
            "6b9257f60466475aa2db73a259f6e93c",
            "54fe64cb52424dcdab01d1c969d72cde",
            "1f221f5af87c4bf2a020c77df8b00041",
            "8f579bbe479b4f0d8b1c860878a48791",
            "ab2a89ecf34d4b73b11504311b38a6f0",
            "9f9f7cf40a9b4d80a69640919847ae53",
            "775fd51d9835468588d07553549470bf",
            "1399d6ed92794f7e9b0903701e0fc4cd",
            "bec31fcb9551461da475716a43bd9f4f",
            "d93b31c0948f4fe59962b8603c062d93",
            "ea0a1883f4e549debb07cb7f8279444c",
            "e793470020394f02801fa265aab9d069",
            "e237c32c332843449f30e2d1391f2f96",
            "7d820e704963402ab839c41cc167c844",
            "e4de21499eb24a1596f7f1fff0ad3c94",
            "f80ebf5e11a74a5fa16016690432a88c",
            "401cd579922d48908a99ce2325b91838",
            "87c4462e0a1f4175afbaf16673113a76",
            "d4a31c72e094440c969340ac7ca10002",
            "00d345cfed4c4f008df693f01b82afce",
            "d186d3737bf34cfdaa852bfdf467df7b",
            "266b06059401495bbe9f0bc556464880",
            "77bc174ef8e44cd7b1c71b78197012c6",
            "fa3a87c1267c402ebce5640293bcf098",
            "63e8f59c0bdc47b5a47833df586d34eb",
            "8f3dbf50c04c46a387c9dbdbc3d42826",
            "0f7c661dbef44fabb88a0a82db7c1d11",
            "3404e3bebc02480286dc60058673320a",
            "97da79349f1240fea1f3de8bd77a56a2",
            "de6e411d315f422c9efa5f90f7f700b1",
            "b053d73375ef4e8a8f555a76bd65afd0",
            "e6a502df9bdc45d69302ce54b2aa9b15"
          ]
        },
        "outputId": "5c1df2eb-dd25-48e2-a437-80381d51c5ec"
      },
      "outputs": [
        {
          "output_type": "display_data",
          "data": {
            "text/plain": [
              "Downloading:   0%|          | 0.00/5.07M [00:00<?, ?B/s]"
            ],
            "application/vnd.jupyter.widget-view+json": {
              "version_major": 2,
              "version_minor": 0,
              "model_id": "b378acfd8b1540549e82830a9bc2f041"
            }
          },
          "metadata": {}
        },
        {
          "output_type": "stream",
          "name": "stdout",
          "text": [
            "http://nlp.uoregon.edu/download/trankit/v1.0.0/xlm-roberta-base/tamil.zip\n"
          ]
        },
        {
          "output_type": "stream",
          "name": "stderr",
          "text": [
            "Downloading: 100%|██████████| 26.4M/26.4M [00:00<00:00, 52.9MiB/s]\n"
          ]
        },
        {
          "output_type": "stream",
          "name": "stdout",
          "text": [
            "Loading pretrained XLM-Roberta, this may take a while...\n"
          ]
        },
        {
          "output_type": "display_data",
          "data": {
            "text/plain": [
              "Downloading:   0%|          | 0.00/512 [00:00<?, ?B/s]"
            ],
            "application/vnd.jupyter.widget-view+json": {
              "version_major": 2,
              "version_minor": 0,
              "model_id": "ea0a1883f4e549debb07cb7f8279444c"
            }
          },
          "metadata": {}
        },
        {
          "output_type": "display_data",
          "data": {
            "text/plain": [
              "Downloading:   0%|          | 0.00/1.12G [00:00<?, ?B/s]"
            ],
            "application/vnd.jupyter.widget-view+json": {
              "version_major": 2,
              "version_minor": 0,
              "model_id": "266b06059401495bbe9f0bc556464880"
            }
          },
          "metadata": {}
        },
        {
          "output_type": "stream",
          "name": "stdout",
          "text": [
            "Loading tokenizer for tamil\n",
            "Loading tagger for tamil\n",
            "Loading multi-word expander for tamil\n",
            "Loading lemmatizer for tamil\n",
            "==================================================\n",
            "Active language: tamil\n",
            "==================================================\n"
          ]
        }
      ],
      "source": [
        "p=Pipeline('tamil')"
      ]
    },
    {
      "cell_type": "code",
      "execution_count": null,
      "metadata": {
        "id": "6TyAw1N4U79I"
      },
      "outputs": [],
      "source": [
        "temp=\"அதே நேரத்தில் சண்டைக்காட்சிகளில் கொஞ்சம் இரைச்சலையும் தருகின்றது.\"\n",
        "a=p.tokenize(temp,is_sent=\"True\")"
      ]
    },
    {
      "cell_type": "code",
      "execution_count": null,
      "metadata": {
        "id": "dG-_zU-iVOHo"
      },
      "outputs": [],
      "source": [
        "dict=a['tokens'][2]"
      ]
    },
    {
      "cell_type": "code",
      "execution_count": null,
      "metadata": {
        "colab": {
          "base_uri": "https://localhost:8080/",
          "height": 35
        },
        "id": "n1ZtrhMTcIBJ",
        "outputId": "96e22c05-fa64-4c06-a8e3-ac5186161ad2"
      },
      "outputs": [
        {
          "output_type": "execute_result",
          "data": {
            "text/plain": [
              "'சண்டைக்காட்சிகளில்'"
            ],
            "application/vnd.google.colaboratory.intrinsic+json": {
              "type": "string"
            }
          },
          "metadata": {},
          "execution_count": 19
        }
      ],
      "source": [
        "dict['text']"
      ]
    },
    {
      "cell_type": "code",
      "execution_count": null,
      "metadata": {
        "colab": {
          "base_uri": "https://localhost:8080/"
        },
        "id": "NHlMVsXeS7vf",
        "outputId": "7dd94884-49b6-448a-c3f5-b6ff35854809"
      },
      "outputs": [
        {
          "output_type": "stream",
          "name": "stderr",
          "text": [
            "/usr/local/lib/python3.7/dist-packages/pandas/core/indexing.py:1732: SettingWithCopyWarning: \n",
            "A value is trying to be set on a copy of a slice from a DataFrame\n",
            "\n",
            "See the caveats in the documentation: https://pandas.pydata.org/pandas-docs/stable/user_guide/indexing.html#returning-a-view-versus-a-copy\n",
            "  self._setitem_single_block(indexer, value, name)\n"
          ]
        }
      ],
      "source": [
        "#TOKENIZATION\n",
        "i=0\n",
        "count=0\n",
        "for i in range(len(data)):\n",
        "    ls=[]\n",
        "    data1 = p.tokenize(str(data['sentence'].iloc[i]),is_sent=\"True\")\n",
        "    for j in range(len(data1['tokens'])):\n",
        "      temp = data1['tokens'][j]\n",
        "      ls.append(str(temp['text']))\n",
        "    data['tokenize'].iloc[i]=ls"
      ]
    },
    {
      "cell_type": "code",
      "execution_count": null,
      "metadata": {
        "id": "TgDZMAVgUIy_"
      },
      "outputs": [],
      "source": [
        "import re\n",
        "import string"
      ]
    },
    {
      "cell_type": "code",
      "execution_count": null,
      "metadata": {
        "id": "hb2JNsTtbf33"
      },
      "outputs": [],
      "source": [
        "stopwords=[\"ஒரு\", 'என்று', 'மற்றும்', 'இந்த', 'இது', 'என்ற', 'கொண்டு', 'என்பது', 'பல', 'ஆகும்', 'அல்லது', 'அவர்', 'நான்', 'உள்ள', 'அந்த', 'இவர்', 'என', 'முதல்', 'என்ன', 'இருந்து', 'சில', 'என்', 'போன்ற', 'வேண்டும்', 'வந்து', 'இதன்', 'அது', 'அவன்', 'தான்', 'பலரும்', 'என்னும்', 'மேலும்', 'பின்னர்', 'கொண்ட', 'இருக்கும்', 'தனது', 'உள்ளது', 'போது', 'என்றும்', 'அதன்', 'தன்', 'பிறகு', 'அவர்கள்', 'வரை', 'அவள்', 'நீ', 'ஆகிய', 'இருந்தது', 'உள்ளன', 'வந்த', 'இருந்த', 'மிகவும்', 'இங்கு', 'மீது', 'ஓர்', 'இவை', 'இந்தக்', 'பற்றி', 'வரும்', 'வேறு', 'இரு', 'இதில்', 'போல்', 'இப்போது', 'அவரது', 'மட்டும்', 'இந்தப்', 'எனும்', 'மேல்', 'பின்', 'சேர்ந்த', 'ஆகியோர்', 'எனக்கு', 'இன்னும்', 'அந்தப்', 'அன்று', 'ஒரே', 'மிக', 'அங்கு', 'பல்வேறு', 'விட்டு', 'பெரும்', 'அதை', 'பற்றிய', 'உன்', 'அதிக', 'அந்தக்', 'பேர்', 'இதனால்', 'அவை', 'அதே', 'ஏன்', 'முறை', 'யார்', 'என்பதை', 'எல்லாம்', 'மட்டுமே', 'இங்கே', 'அங்கே', 'இடம்', 'இடத்தில்', 'அதில்', 'நாம்', 'அதற்கு', 'எனவே', 'பிற', 'சிறு', 'மற்ற', 'விட', 'எந்த', 'எனவும்', 'எனப்படும்', 'எனினும்', 'அடுத்த', 'இதனை', 'இதை', 'கொள்ள', 'இந்தத்', 'இதற்கு', 'அதனால்', 'தவிர', 'போல', 'வரையில்', 'சற்று', 'எனக்']\n"
      ]
    },
    {
      "cell_type": "code",
      "execution_count": null,
      "metadata": {
        "colab": {
          "base_uri": "https://localhost:8080/",
          "height": 320
        },
        "id": "_NX0r7ZRUwqT",
        "outputId": "c473de65-9a5c-43fd-90c9-1bb56ec6352b"
      },
      "outputs": [
        {
          "output_type": "execute_result",
          "data": {
            "text/plain": [
              "   sent_id                                           sentence  sentiment  \\\n",
              "0        1  பின்னணி இசையிலும் பின்னி பெடலெடுத்துள்ளார் சந்...          1   \n",
              "1        2  ரஞ்சித் சூப்பர்ஸ்டாரை தன்னுடைய கதைக்கேற்ப முழு...          0   \n",
              "2        3  படத்தில் தன்னுடைய வழக்கமான பல சிம்பாளிக் காட்ச...          0   \n",
              "3        4                         வசனங்களில் அசத்தியுள்ளார்.          1   \n",
              "4        5  அவருக்கே உரிய பாணியில் வழக்கம்போல் அழகாக நடித்...          1   \n",
              "\n",
              "                                            tokenize  \\\n",
              "0  [பின்னணி, இசையிலும், பின்னி, பெடலெடுத்துள்ளார்...   \n",
              "1  [ரஞ்சித், சூப்பர்ஸ்டாரை, தன்னுடைய, கதைக்கேற்ப,...   \n",
              "2  [படத்தில், தன்னுடைய, வழக்கமான, பல, சிம்பாளிக்,...   \n",
              "3                    [வசனங்களில், அசத்தியுள்ளார், .]   \n",
              "4  [அவருக்கே, உரிய, பாணியில், வழக்கம்போல், அழகாக,...   \n",
              "\n",
              "                                             no_punc  \n",
              "0  [பின்னணி, இசையிலும், பின்னி, பெடலெடுத்துள்ளார்...  \n",
              "1  [ரஞ்சித், சூப்பர்ஸ்டாரை, தன்னுடைய, கதைக்கேற்ப,...  \n",
              "2  [படத்தில், தன்னுடைய, வழக்கமான, பல, சிம்பாளிக்,...  \n",
              "3                       [வசனங்களில், அசத்தியுள்ளார்]  \n",
              "4  [அவருக்கே, உரிய, பாணியில், வழக்கம்போல், அழகாக,...  "
            ],
            "text/html": [
              "\n",
              "  <div id=\"df-76e2e8e6-9a01-4196-b884-02ddf1ba32ce\">\n",
              "    <div class=\"colab-df-container\">\n",
              "      <div>\n",
              "<style scoped>\n",
              "    .dataframe tbody tr th:only-of-type {\n",
              "        vertical-align: middle;\n",
              "    }\n",
              "\n",
              "    .dataframe tbody tr th {\n",
              "        vertical-align: top;\n",
              "    }\n",
              "\n",
              "    .dataframe thead th {\n",
              "        text-align: right;\n",
              "    }\n",
              "</style>\n",
              "<table border=\"1\" class=\"dataframe\">\n",
              "  <thead>\n",
              "    <tr style=\"text-align: right;\">\n",
              "      <th></th>\n",
              "      <th>sent_id</th>\n",
              "      <th>sentence</th>\n",
              "      <th>sentiment</th>\n",
              "      <th>tokenize</th>\n",
              "      <th>no_punc</th>\n",
              "    </tr>\n",
              "  </thead>\n",
              "  <tbody>\n",
              "    <tr>\n",
              "      <th>0</th>\n",
              "      <td>1</td>\n",
              "      <td>பின்னணி இசையிலும் பின்னி பெடலெடுத்துள்ளார் சந்...</td>\n",
              "      <td>1</td>\n",
              "      <td>[பின்னணி, இசையிலும், பின்னி, பெடலெடுத்துள்ளார்...</td>\n",
              "      <td>[பின்னணி, இசையிலும், பின்னி, பெடலெடுத்துள்ளார்...</td>\n",
              "    </tr>\n",
              "    <tr>\n",
              "      <th>1</th>\n",
              "      <td>2</td>\n",
              "      <td>ரஞ்சித் சூப்பர்ஸ்டாரை தன்னுடைய கதைக்கேற்ப முழு...</td>\n",
              "      <td>0</td>\n",
              "      <td>[ரஞ்சித், சூப்பர்ஸ்டாரை, தன்னுடைய, கதைக்கேற்ப,...</td>\n",
              "      <td>[ரஞ்சித், சூப்பர்ஸ்டாரை, தன்னுடைய, கதைக்கேற்ப,...</td>\n",
              "    </tr>\n",
              "    <tr>\n",
              "      <th>2</th>\n",
              "      <td>3</td>\n",
              "      <td>படத்தில் தன்னுடைய வழக்கமான பல சிம்பாளிக் காட்ச...</td>\n",
              "      <td>0</td>\n",
              "      <td>[படத்தில், தன்னுடைய, வழக்கமான, பல, சிம்பாளிக்,...</td>\n",
              "      <td>[படத்தில், தன்னுடைய, வழக்கமான, பல, சிம்பாளிக்,...</td>\n",
              "    </tr>\n",
              "    <tr>\n",
              "      <th>3</th>\n",
              "      <td>4</td>\n",
              "      <td>வசனங்களில் அசத்தியுள்ளார்.</td>\n",
              "      <td>1</td>\n",
              "      <td>[வசனங்களில், அசத்தியுள்ளார், .]</td>\n",
              "      <td>[வசனங்களில், அசத்தியுள்ளார்]</td>\n",
              "    </tr>\n",
              "    <tr>\n",
              "      <th>4</th>\n",
              "      <td>5</td>\n",
              "      <td>அவருக்கே உரிய பாணியில் வழக்கம்போல் அழகாக நடித்...</td>\n",
              "      <td>1</td>\n",
              "      <td>[அவருக்கே, உரிய, பாணியில், வழக்கம்போல், அழகாக,...</td>\n",
              "      <td>[அவருக்கே, உரிய, பாணியில், வழக்கம்போல், அழகாக,...</td>\n",
              "    </tr>\n",
              "  </tbody>\n",
              "</table>\n",
              "</div>\n",
              "      <button class=\"colab-df-convert\" onclick=\"convertToInteractive('df-76e2e8e6-9a01-4196-b884-02ddf1ba32ce')\"\n",
              "              title=\"Convert this dataframe to an interactive table.\"\n",
              "              style=\"display:none;\">\n",
              "        \n",
              "  <svg xmlns=\"http://www.w3.org/2000/svg\" height=\"24px\"viewBox=\"0 0 24 24\"\n",
              "       width=\"24px\">\n",
              "    <path d=\"M0 0h24v24H0V0z\" fill=\"none\"/>\n",
              "    <path d=\"M18.56 5.44l.94 2.06.94-2.06 2.06-.94-2.06-.94-.94-2.06-.94 2.06-2.06.94zm-11 1L8.5 8.5l.94-2.06 2.06-.94-2.06-.94L8.5 2.5l-.94 2.06-2.06.94zm10 10l.94 2.06.94-2.06 2.06-.94-2.06-.94-.94-2.06-.94 2.06-2.06.94z\"/><path d=\"M17.41 7.96l-1.37-1.37c-.4-.4-.92-.59-1.43-.59-.52 0-1.04.2-1.43.59L10.3 9.45l-7.72 7.72c-.78.78-.78 2.05 0 2.83L4 21.41c.39.39.9.59 1.41.59.51 0 1.02-.2 1.41-.59l7.78-7.78 2.81-2.81c.8-.78.8-2.07 0-2.86zM5.41 20L4 18.59l7.72-7.72 1.47 1.35L5.41 20z\"/>\n",
              "  </svg>\n",
              "      </button>\n",
              "      \n",
              "  <style>\n",
              "    .colab-df-container {\n",
              "      display:flex;\n",
              "      flex-wrap:wrap;\n",
              "      gap: 12px;\n",
              "    }\n",
              "\n",
              "    .colab-df-convert {\n",
              "      background-color: #E8F0FE;\n",
              "      border: none;\n",
              "      border-radius: 50%;\n",
              "      cursor: pointer;\n",
              "      display: none;\n",
              "      fill: #1967D2;\n",
              "      height: 32px;\n",
              "      padding: 0 0 0 0;\n",
              "      width: 32px;\n",
              "    }\n",
              "\n",
              "    .colab-df-convert:hover {\n",
              "      background-color: #E2EBFA;\n",
              "      box-shadow: 0px 1px 2px rgba(60, 64, 67, 0.3), 0px 1px 3px 1px rgba(60, 64, 67, 0.15);\n",
              "      fill: #174EA6;\n",
              "    }\n",
              "\n",
              "    [theme=dark] .colab-df-convert {\n",
              "      background-color: #3B4455;\n",
              "      fill: #D2E3FC;\n",
              "    }\n",
              "\n",
              "    [theme=dark] .colab-df-convert:hover {\n",
              "      background-color: #434B5C;\n",
              "      box-shadow: 0px 1px 3px 1px rgba(0, 0, 0, 0.15);\n",
              "      filter: drop-shadow(0px 1px 2px rgba(0, 0, 0, 0.3));\n",
              "      fill: #FFFFFF;\n",
              "    }\n",
              "  </style>\n",
              "\n",
              "      <script>\n",
              "        const buttonEl =\n",
              "          document.querySelector('#df-76e2e8e6-9a01-4196-b884-02ddf1ba32ce button.colab-df-convert');\n",
              "        buttonEl.style.display =\n",
              "          google.colab.kernel.accessAllowed ? 'block' : 'none';\n",
              "\n",
              "        async function convertToInteractive(key) {\n",
              "          const element = document.querySelector('#df-76e2e8e6-9a01-4196-b884-02ddf1ba32ce');\n",
              "          const dataTable =\n",
              "            await google.colab.kernel.invokeFunction('convertToInteractive',\n",
              "                                                     [key], {});\n",
              "          if (!dataTable) return;\n",
              "\n",
              "          const docLinkHtml = 'Like what you see? Visit the ' +\n",
              "            '<a target=\"_blank\" href=https://colab.research.google.com/notebooks/data_table.ipynb>data table notebook</a>'\n",
              "            + ' to learn more about interactive tables.';\n",
              "          element.innerHTML = '';\n",
              "          dataTable['output_type'] = 'display_data';\n",
              "          await google.colab.output.renderOutput(dataTable, element);\n",
              "          const docLink = document.createElement('div');\n",
              "          docLink.innerHTML = docLinkHtml;\n",
              "          element.appendChild(docLink);\n",
              "        }\n",
              "      </script>\n",
              "    </div>\n",
              "  </div>\n",
              "  "
            ]
          },
          "metadata": {},
          "execution_count": 23
        }
      ],
      "source": [
        "#PUNCTUATION REMOVAL\n",
        "punc = string.punctuation\n",
        "data['no_punc'] = data['tokenize'].apply(lambda x: [word for word in x if word not in punc])\n",
        "data.head(5)"
      ]
    },
    {
      "cell_type": "code",
      "execution_count": null,
      "metadata": {
        "colab": {
          "base_uri": "https://localhost:8080/",
          "height": 337
        },
        "id": "722cj4EidvFi",
        "outputId": "50124ec9-5dba-46da-cae7-ac33f81be9fd"
      },
      "outputs": [
        {
          "output_type": "execute_result",
          "data": {
            "text/plain": [
              "   sent_id                                           sentence  sentiment  \\\n",
              "0        1  பின்னணி இசையிலும் பின்னி பெடலெடுத்துள்ளார் சந்...          1   \n",
              "1        2  ரஞ்சித் சூப்பர்ஸ்டாரை தன்னுடைய கதைக்கேற்ப முழு...          0   \n",
              "2        3  படத்தில் தன்னுடைய வழக்கமான பல சிம்பாளிக் காட்ச...          0   \n",
              "3        4                         வசனங்களில் அசத்தியுள்ளார்.          1   \n",
              "4        5  அவருக்கே உரிய பாணியில் வழக்கம்போல் அழகாக நடித்...          1   \n",
              "\n",
              "                                            tokenize  \\\n",
              "0  [பின்னணி, இசையிலும், பின்னி, பெடலெடுத்துள்ளார்...   \n",
              "1  [ரஞ்சித், சூப்பர்ஸ்டாரை, தன்னுடைய, கதைக்கேற்ப,...   \n",
              "2  [படத்தில், தன்னுடைய, வழக்கமான, பல, சிம்பாளிக்,...   \n",
              "3                    [வசனங்களில், அசத்தியுள்ளார், .]   \n",
              "4  [அவருக்கே, உரிய, பாணியில், வழக்கம்போல், அழகாக,...   \n",
              "\n",
              "                                             no_punc  \\\n",
              "0  [பின்னணி, இசையிலும், பின்னி, பெடலெடுத்துள்ளார்...   \n",
              "1  [ரஞ்சித், சூப்பர்ஸ்டாரை, தன்னுடைய, கதைக்கேற்ப,...   \n",
              "2  [படத்தில், தன்னுடைய, வழக்கமான, பல, சிம்பாளிக்,...   \n",
              "3                       [வசனங்களில், அசத்தியுள்ளார்]   \n",
              "4  [அவருக்கே, உரிய, பாணியில், வழக்கம்போல், அழகாக,...   \n",
              "\n",
              "                                   stopwords_removed  \n",
              "0  [பின்னணி, இசையிலும், பின்னி, பெடலெடுத்துள்ளார்...  \n",
              "1  [ரஞ்சித், சூப்பர்ஸ்டாரை, தன்னுடைய, கதைக்கேற்ப,...  \n",
              "2  [படத்தில், தன்னுடைய, வழக்கமான, சிம்பாளிக், காட...  \n",
              "3                       [வசனங்களில், அசத்தியுள்ளார்]  \n",
              "4  [அவருக்கே, உரிய, பாணியில், வழக்கம்போல், அழகாக,...  "
            ],
            "text/html": [
              "\n",
              "  <div id=\"df-c8008ff7-fbcd-4b18-87aa-aba74de2fb98\">\n",
              "    <div class=\"colab-df-container\">\n",
              "      <div>\n",
              "<style scoped>\n",
              "    .dataframe tbody tr th:only-of-type {\n",
              "        vertical-align: middle;\n",
              "    }\n",
              "\n",
              "    .dataframe tbody tr th {\n",
              "        vertical-align: top;\n",
              "    }\n",
              "\n",
              "    .dataframe thead th {\n",
              "        text-align: right;\n",
              "    }\n",
              "</style>\n",
              "<table border=\"1\" class=\"dataframe\">\n",
              "  <thead>\n",
              "    <tr style=\"text-align: right;\">\n",
              "      <th></th>\n",
              "      <th>sent_id</th>\n",
              "      <th>sentence</th>\n",
              "      <th>sentiment</th>\n",
              "      <th>tokenize</th>\n",
              "      <th>no_punc</th>\n",
              "      <th>stopwords_removed</th>\n",
              "    </tr>\n",
              "  </thead>\n",
              "  <tbody>\n",
              "    <tr>\n",
              "      <th>0</th>\n",
              "      <td>1</td>\n",
              "      <td>பின்னணி இசையிலும் பின்னி பெடலெடுத்துள்ளார் சந்...</td>\n",
              "      <td>1</td>\n",
              "      <td>[பின்னணி, இசையிலும், பின்னி, பெடலெடுத்துள்ளார்...</td>\n",
              "      <td>[பின்னணி, இசையிலும், பின்னி, பெடலெடுத்துள்ளார்...</td>\n",
              "      <td>[பின்னணி, இசையிலும், பின்னி, பெடலெடுத்துள்ளார்...</td>\n",
              "    </tr>\n",
              "    <tr>\n",
              "      <th>1</th>\n",
              "      <td>2</td>\n",
              "      <td>ரஞ்சித் சூப்பர்ஸ்டாரை தன்னுடைய கதைக்கேற்ப முழு...</td>\n",
              "      <td>0</td>\n",
              "      <td>[ரஞ்சித், சூப்பர்ஸ்டாரை, தன்னுடைய, கதைக்கேற்ப,...</td>\n",
              "      <td>[ரஞ்சித், சூப்பர்ஸ்டாரை, தன்னுடைய, கதைக்கேற்ப,...</td>\n",
              "      <td>[ரஞ்சித், சூப்பர்ஸ்டாரை, தன்னுடைய, கதைக்கேற்ப,...</td>\n",
              "    </tr>\n",
              "    <tr>\n",
              "      <th>2</th>\n",
              "      <td>3</td>\n",
              "      <td>படத்தில் தன்னுடைய வழக்கமான பல சிம்பாளிக் காட்ச...</td>\n",
              "      <td>0</td>\n",
              "      <td>[படத்தில், தன்னுடைய, வழக்கமான, பல, சிம்பாளிக்,...</td>\n",
              "      <td>[படத்தில், தன்னுடைய, வழக்கமான, பல, சிம்பாளிக்,...</td>\n",
              "      <td>[படத்தில், தன்னுடைய, வழக்கமான, சிம்பாளிக், காட...</td>\n",
              "    </tr>\n",
              "    <tr>\n",
              "      <th>3</th>\n",
              "      <td>4</td>\n",
              "      <td>வசனங்களில் அசத்தியுள்ளார்.</td>\n",
              "      <td>1</td>\n",
              "      <td>[வசனங்களில், அசத்தியுள்ளார், .]</td>\n",
              "      <td>[வசனங்களில், அசத்தியுள்ளார்]</td>\n",
              "      <td>[வசனங்களில், அசத்தியுள்ளார்]</td>\n",
              "    </tr>\n",
              "    <tr>\n",
              "      <th>4</th>\n",
              "      <td>5</td>\n",
              "      <td>அவருக்கே உரிய பாணியில் வழக்கம்போல் அழகாக நடித்...</td>\n",
              "      <td>1</td>\n",
              "      <td>[அவருக்கே, உரிய, பாணியில், வழக்கம்போல், அழகாக,...</td>\n",
              "      <td>[அவருக்கே, உரிய, பாணியில், வழக்கம்போல், அழகாக,...</td>\n",
              "      <td>[அவருக்கே, உரிய, பாணியில், வழக்கம்போல், அழகாக,...</td>\n",
              "    </tr>\n",
              "  </tbody>\n",
              "</table>\n",
              "</div>\n",
              "      <button class=\"colab-df-convert\" onclick=\"convertToInteractive('df-c8008ff7-fbcd-4b18-87aa-aba74de2fb98')\"\n",
              "              title=\"Convert this dataframe to an interactive table.\"\n",
              "              style=\"display:none;\">\n",
              "        \n",
              "  <svg xmlns=\"http://www.w3.org/2000/svg\" height=\"24px\"viewBox=\"0 0 24 24\"\n",
              "       width=\"24px\">\n",
              "    <path d=\"M0 0h24v24H0V0z\" fill=\"none\"/>\n",
              "    <path d=\"M18.56 5.44l.94 2.06.94-2.06 2.06-.94-2.06-.94-.94-2.06-.94 2.06-2.06.94zm-11 1L8.5 8.5l.94-2.06 2.06-.94-2.06-.94L8.5 2.5l-.94 2.06-2.06.94zm10 10l.94 2.06.94-2.06 2.06-.94-2.06-.94-.94-2.06-.94 2.06-2.06.94z\"/><path d=\"M17.41 7.96l-1.37-1.37c-.4-.4-.92-.59-1.43-.59-.52 0-1.04.2-1.43.59L10.3 9.45l-7.72 7.72c-.78.78-.78 2.05 0 2.83L4 21.41c.39.39.9.59 1.41.59.51 0 1.02-.2 1.41-.59l7.78-7.78 2.81-2.81c.8-.78.8-2.07 0-2.86zM5.41 20L4 18.59l7.72-7.72 1.47 1.35L5.41 20z\"/>\n",
              "  </svg>\n",
              "      </button>\n",
              "      \n",
              "  <style>\n",
              "    .colab-df-container {\n",
              "      display:flex;\n",
              "      flex-wrap:wrap;\n",
              "      gap: 12px;\n",
              "    }\n",
              "\n",
              "    .colab-df-convert {\n",
              "      background-color: #E8F0FE;\n",
              "      border: none;\n",
              "      border-radius: 50%;\n",
              "      cursor: pointer;\n",
              "      display: none;\n",
              "      fill: #1967D2;\n",
              "      height: 32px;\n",
              "      padding: 0 0 0 0;\n",
              "      width: 32px;\n",
              "    }\n",
              "\n",
              "    .colab-df-convert:hover {\n",
              "      background-color: #E2EBFA;\n",
              "      box-shadow: 0px 1px 2px rgba(60, 64, 67, 0.3), 0px 1px 3px 1px rgba(60, 64, 67, 0.15);\n",
              "      fill: #174EA6;\n",
              "    }\n",
              "\n",
              "    [theme=dark] .colab-df-convert {\n",
              "      background-color: #3B4455;\n",
              "      fill: #D2E3FC;\n",
              "    }\n",
              "\n",
              "    [theme=dark] .colab-df-convert:hover {\n",
              "      background-color: #434B5C;\n",
              "      box-shadow: 0px 1px 3px 1px rgba(0, 0, 0, 0.15);\n",
              "      filter: drop-shadow(0px 1px 2px rgba(0, 0, 0, 0.3));\n",
              "      fill: #FFFFFF;\n",
              "    }\n",
              "  </style>\n",
              "\n",
              "      <script>\n",
              "        const buttonEl =\n",
              "          document.querySelector('#df-c8008ff7-fbcd-4b18-87aa-aba74de2fb98 button.colab-df-convert');\n",
              "        buttonEl.style.display =\n",
              "          google.colab.kernel.accessAllowed ? 'block' : 'none';\n",
              "\n",
              "        async function convertToInteractive(key) {\n",
              "          const element = document.querySelector('#df-c8008ff7-fbcd-4b18-87aa-aba74de2fb98');\n",
              "          const dataTable =\n",
              "            await google.colab.kernel.invokeFunction('convertToInteractive',\n",
              "                                                     [key], {});\n",
              "          if (!dataTable) return;\n",
              "\n",
              "          const docLinkHtml = 'Like what you see? Visit the ' +\n",
              "            '<a target=\"_blank\" href=https://colab.research.google.com/notebooks/data_table.ipynb>data table notebook</a>'\n",
              "            + ' to learn more about interactive tables.';\n",
              "          element.innerHTML = '';\n",
              "          dataTable['output_type'] = 'display_data';\n",
              "          await google.colab.output.renderOutput(dataTable, element);\n",
              "          const docLink = document.createElement('div');\n",
              "          docLink.innerHTML = docLinkHtml;\n",
              "          element.appendChild(docLink);\n",
              "        }\n",
              "      </script>\n",
              "    </div>\n",
              "  </div>\n",
              "  "
            ]
          },
          "metadata": {},
          "execution_count": 24
        }
      ],
      "source": [
        "#STOPWORDS REMOVAL\n",
        "data['stopwords_removed'] = data['no_punc'].apply(lambda x: [word for word in x if word not in stopwords])\n",
        "data.head(5)"
      ]
    },
    {
      "cell_type": "code",
      "execution_count": null,
      "metadata": {
        "id": "bkDMOaNcjfK2"
      },
      "outputs": [],
      "source": [
        "# sent=data['stopwords_removed'].iloc[0]\n",
        "# print(sent)"
      ]
    },
    {
      "cell_type": "code",
      "execution_count": null,
      "metadata": {
        "id": "vJXCSLXgDcc_"
      },
      "outputs": [],
      "source": [
        "data[\"lemma\"]=\"\""
      ]
    },
    {
      "cell_type": "code",
      "execution_count": null,
      "metadata": {
        "colab": {
          "base_uri": "https://localhost:8080/"
        },
        "id": "G9LCCDdhd3NH",
        "outputId": "ef5be0d6-8e7e-4dac-86a9-ab80ec46703c"
      },
      "outputs": [
        {
          "output_type": "stream",
          "name": "stderr",
          "text": [
            "/usr/local/lib/python3.7/dist-packages/pandas/core/indexing.py:1732: SettingWithCopyWarning: \n",
            "A value is trying to be set on a copy of a slice from a DataFrame\n",
            "\n",
            "See the caveats in the documentation: https://pandas.pydata.org/pandas-docs/stable/user_guide/indexing.html#returning-a-view-versus-a-copy\n",
            "  self._setitem_single_block(indexer, value, name)\n"
          ]
        }
      ],
      "source": [
        "#LEMMATIZATION\n",
        "AA=0\n",
        "for AA in range(len(data)):\n",
        "  alp=data[\"stopwords_removed\"].iloc[AA]\n",
        "  temp=[]\n",
        "  for AB in range(len(alp)):\n",
        "    test=alp[AB]\n",
        "    a=p.lemmatize(test)\n",
        "    b=a['sentences']\n",
        "    c=b[0]\n",
        "    d=c['tokens']\n",
        "    e=d[0]\n",
        "    try:\n",
        "      temp.append(e['lemma'])\n",
        "    except:\n",
        "      f=e['expanded']\n",
        "      for i in range(len(f)):\n",
        "        g=f[i]\n",
        "        temp.append(g['lemma'])\n",
        "\n",
        "  data[\"lemma\"].iloc[AA]=temp"
      ]
    },
    {
      "cell_type": "code",
      "execution_count": null,
      "metadata": {
        "id": "ouCTHKYkjOSV",
        "colab": {
          "base_uri": "https://localhost:8080/"
        },
        "outputId": "b1bf6c68-49a6-46be-a0f3-c7da4b6d8fa5"
      },
      "outputs": [
        {
          "output_type": "execute_result",
          "data": {
            "text/plain": [
              "0      [பின்னணி, இசை, உம், பின்னி, பெடலெடுத்து, உள், ...\n",
              "1      [ரஞ்சித், சூப்பர், தன்னுடையம், கதை, முழுமையாக,...\n",
              "2      [படத்து, தன்னுடையம், வழக்கம், சிம்பாளி, காட்சி...\n",
              "3                                   [வசனம், அசத்து, உள்]\n",
              "4      [அவர், உரிய, பாணி, வழக்கம்போல், அழகாகு, நடி, க...\n",
              "                             ...                        \n",
              "445     [சூப்பர், எதிர், பேசு, காட்சி, கைதட்டல், வாங்கு]\n",
              "446    [ராதிகா, ஆப்தே, தோட்டம், வேலை, செய், பெண்ணாகு,...\n",
              "447    [ஆனால், இவர், வாழ்க்கை, அதிகாரவவர், திசை, மாறு...\n",
              "448          [கோலிசோடா, என்றாலே, வகை யதார்த்தம், படத்து]\n",
              "449    [நாயகன், தினேஷ், டான்ஸ், மாஸ்டர், படு, மூலம், ...\n",
              "Name: lemma, Length: 450, dtype: object"
            ]
          },
          "metadata": {},
          "execution_count": 28
        }
      ],
      "source": [
        "data['lemma']"
      ]
    },
    {
      "cell_type": "code",
      "execution_count": null,
      "metadata": {
        "id": "QGHJoa4zEbkb"
      },
      "outputs": [],
      "source": [
        "import sklearn\n",
        "from textblob import Word\n",
        "from sklearn.preprocessing import LabelEncoder,OneHotEncoder\n",
        "from collections import Counter\n",
        "import wordcloud\n",
        "from sklearn.metrics import classification_report,confusion_matrix,accuracy_score\n",
        "from keras.models import Sequential\n",
        "from keras.preprocessing.text import Tokenizer\n",
        "from keras_preprocessing.sequence import pad_sequences\n",
        "from keras.layers import Dense, Embedding, LSTM, SpatialDropout1D\n",
        "from sklearn.model_selection import train_test_split"
      ]
    },
    {
      "cell_type": "code",
      "source": [
        "sklearn.__version__"
      ],
      "metadata": {
        "colab": {
          "base_uri": "https://localhost:8080/",
          "height": 35
        },
        "id": "0RDbeOZ0P-Hs",
        "outputId": "ac13aa03-f134-40f6-be34-b037102914c5"
      },
      "execution_count": null,
      "outputs": [
        {
          "output_type": "execute_result",
          "data": {
            "text/plain": [
              "'1.0.2'"
            ],
            "application/vnd.google.colaboratory.intrinsic+json": {
              "type": "string"
            }
          },
          "metadata": {},
          "execution_count": 10
        }
      ]
    },
    {
      "cell_type": "code",
      "execution_count": null,
      "metadata": {
        "id": "usTntBmVgqFY",
        "colab": {
          "base_uri": "https://localhost:8080/"
        },
        "outputId": "e9d9bfe4-f418-4590-d533-b943e12dfe12"
      },
      "outputs": [
        {
          "output_type": "stream",
          "name": "stdout",
          "text": [
            "<class 'numpy.ndarray'>\n",
            "(450, 34)\n"
          ]
        }
      ],
      "source": [
        "#ENCODING\n",
        "tokenizer = Tokenizer(num_words=1000, split=' ')\n",
        "print(type(data['lemma'].values))\n",
        "tokenizer.fit_on_texts(data['lemma'].values)\n",
        "X = tokenizer.texts_to_sequences(data['lemma'].values)\n",
        "X = pad_sequences(X)\n",
        "print(X.shape)"
      ]
    },
    {
      "cell_type": "code",
      "execution_count": null,
      "metadata": {
        "id": "dFVNgPkFhvfr",
        "colab": {
          "base_uri": "https://localhost:8080/"
        },
        "outputId": "9d49e45b-7330-4d5d-f3f3-1db2698e4925"
      },
      "outputs": [
        {
          "output_type": "stream",
          "name": "stdout",
          "text": [
            "[[  0   0   0 ...   4 203 633]\n",
            " [  0   0   0 ... 322 204   2]\n",
            " [  0   0   0 ...   6  13   4]\n",
            " ...\n",
            " [  0   0   0 ... 109  64  46]\n",
            " [  0   0   0 ... 138 432   9]\n",
            " [  0   0   0 ...  82 252 434]]\n"
          ]
        }
      ],
      "source": [
        "print(X)"
      ]
    },
    {
      "cell_type": "code",
      "execution_count": null,
      "metadata": {
        "id": "lrFfh9INhzmP",
        "colab": {
          "base_uri": "https://localhost:8080/"
        },
        "outputId": "7d2fb370-6504-4bc1-97b3-6552aa0ae708"
      },
      "outputs": [
        {
          "output_type": "stream",
          "name": "stderr",
          "text": [
            "WARNING:tensorflow:Layer lstm will not use cuDNN kernels since it doesn't meet the criteria. It will use a generic GPU kernel as fallback when running on GPU.\n"
          ]
        },
        {
          "output_type": "stream",
          "name": "stdout",
          "text": [
            "Model: \"sequential\"\n",
            "_________________________________________________________________\n",
            " Layer (type)                Output Shape              Param #   \n",
            "=================================================================\n",
            " embedding (Embedding)       (None, 34, 120)           120000    \n",
            "                                                                 \n",
            " spatial_dropout1d (SpatialD  (None, 34, 120)          0         \n",
            " ropout1D)                                                       \n",
            "                                                                 \n",
            " lstm (LSTM)                 (None, 176)               209088    \n",
            "                                                                 \n",
            " dense (Dense)               (None, 3)                 531       \n",
            "                                                                 \n",
            "=================================================================\n",
            "Total params: 329,619\n",
            "Trainable params: 329,619\n",
            "Non-trainable params: 0\n",
            "_________________________________________________________________\n",
            "None\n"
          ]
        }
      ],
      "source": [
        "model = Sequential()\n",
        "model.add(Embedding(1000, 120, input_length = X.shape[1]))\n",
        "model.add(SpatialDropout1D(0.4))\n",
        "model.add(LSTM(176, dropout=0.2, recurrent_dropout=0.2))\n",
        "model.add(Dense(3,activation='softmax'))\n",
        "model.compile(loss = 'categorical_crossentropy', optimizer='adam', metrics = ['accuracy'])\n",
        "print(model.summary())\n"
      ]
    },
    {
      "cell_type": "code",
      "execution_count": null,
      "metadata": {
        "id": "TSa9AVqwPM8U",
        "colab": {
          "base_uri": "https://localhost:8080/"
        },
        "outputId": "90bd24c2-f7f6-4305-c08e-4cc964d18650"
      },
      "outputs": [
        {
          "output_type": "execute_result",
          "data": {
            "text/plain": [
              "0      1\n",
              "1      0\n",
              "2      0\n",
              "3      1\n",
              "4      1\n",
              "      ..\n",
              "445    1\n",
              "446    0\n",
              "447    0\n",
              "448    0\n",
              "449    1\n",
              "Name: sentiment, Length: 450, dtype: int64"
            ]
          },
          "metadata": {},
          "execution_count": 33
        }
      ],
      "source": [
        "indep=X\n",
        "dep=data['sentiment']\n",
        "dep"
      ]
    },
    {
      "cell_type": "code",
      "execution_count": null,
      "metadata": {
        "id": "ZkLvCq6pbWeC",
        "colab": {
          "base_uri": "https://localhost:8080/"
        },
        "outputId": "15b48577-ed68-4b5c-c0c7-675002dd8446"
      },
      "outputs": [
        {
          "output_type": "stream",
          "name": "stdout",
          "text": [
            "[[0. 1. 0.]\n",
            " [1. 0. 0.]\n",
            " [1. 0. 0.]\n",
            " ...\n",
            " [1. 0. 0.]\n",
            " [1. 0. 0.]\n",
            " [0. 1. 0.]]\n"
          ]
        }
      ],
      "source": [
        "from tensorflow.keras.utils import to_categorical\n",
        "dep = to_categorical(data['sentiment'])\n",
        "print(dep)"
      ]
    },
    {
      "cell_type": "code",
      "execution_count": null,
      "metadata": {
        "id": "FetSJzszI2qH",
        "colab": {
          "base_uri": "https://localhost:8080/"
        },
        "outputId": "e90be793-35cf-4423-ac3a-71daf2f2e21b"
      },
      "outputs": [
        {
          "output_type": "stream",
          "name": "stdout",
          "text": [
            "[[0. 1. 0.]\n",
            " [0. 1. 0.]\n",
            " [1. 0. 0.]\n",
            " ...\n",
            " [0. 1. 0.]\n",
            " [0. 0. 1.]\n",
            " [0. 1. 0.]]\n"
          ]
        }
      ],
      "source": [
        "x_train,x_test,y_train,y_test=train_test_split(indep,dep,test_size=0.2,random_state=42)\n",
        "print(y_train)"
      ]
    },
    {
      "cell_type": "code",
      "execution_count": null,
      "metadata": {
        "id": "dYpoxGv-YkmL",
        "colab": {
          "base_uri": "https://localhost:8080/"
        },
        "outputId": "91d6cc87-78d9-4103-c9ad-e0622e0d4414"
      },
      "outputs": [
        {
          "output_type": "execute_result",
          "data": {
            "text/plain": [
              "(360, 34)"
            ]
          },
          "metadata": {},
          "execution_count": 36
        }
      ],
      "source": [
        "x_train.shape"
      ]
    },
    {
      "cell_type": "code",
      "execution_count": null,
      "metadata": {
        "id": "Nl3Z-UWBPw-o",
        "colab": {
          "base_uri": "https://localhost:8080/"
        },
        "outputId": "add067be-1011-4c20-fcd3-622da97ac2b4"
      },
      "outputs": [
        {
          "output_type": "stream",
          "name": "stdout",
          "text": [
            "Epoch 1/10\n",
            "12/12 [==============================] - 4s 138ms/step - loss: 1.0846 - accuracy: 0.3972\n",
            "Epoch 2/10\n",
            "12/12 [==============================] - 2s 143ms/step - loss: 1.0713 - accuracy: 0.4667\n",
            "Epoch 3/10\n",
            "12/12 [==============================] - 2s 137ms/step - loss: 1.0459 - accuracy: 0.6278\n",
            "Epoch 4/10\n",
            "12/12 [==============================] - 2s 141ms/step - loss: 0.9919 - accuracy: 0.4833\n",
            "Epoch 5/10\n",
            "12/12 [==============================] - 2s 137ms/step - loss: 0.8642 - accuracy: 0.6528\n",
            "Epoch 6/10\n",
            "12/12 [==============================] - 2s 135ms/step - loss: 0.6442 - accuracy: 0.7222\n",
            "Epoch 7/10\n",
            "12/12 [==============================] - 2s 144ms/step - loss: 0.4674 - accuracy: 0.8528\n",
            "Epoch 8/10\n",
            "12/12 [==============================] - 2s 139ms/step - loss: 0.3227 - accuracy: 0.9111\n",
            "Epoch 9/10\n",
            "12/12 [==============================] - 2s 146ms/step - loss: 0.2318 - accuracy: 0.9389\n",
            "Epoch 10/10\n",
            "12/12 [==============================] - 2s 139ms/step - loss: 0.1756 - accuracy: 0.9528\n"
          ]
        },
        {
          "output_type": "execute_result",
          "data": {
            "text/plain": [
              "<keras.callbacks.History at 0x7f8fba7e7690>"
            ]
          },
          "metadata": {},
          "execution_count": 37
        }
      ],
      "source": [
        "model.fit(x_train, y_train, epochs = 10, batch_size=32, verbose = 'auto')"
      ]
    },
    {
      "cell_type": "code",
      "execution_count": null,
      "metadata": {
        "id": "z_eE0eKFP5FU",
        "colab": {
          "base_uri": "https://localhost:8080/"
        },
        "outputId": "8bb3ce10-6813-4d8d-ebb4-c33356d20217"
      },
      "outputs": [
        {
          "output_type": "stream",
          "name": "stdout",
          "text": [
            "3/3 [==============================] - 0s 14ms/step - loss: 1.1055 - accuracy: 0.5556\n"
          ]
        },
        {
          "output_type": "execute_result",
          "data": {
            "text/plain": [
              "[1.1054718494415283, 0.5555555820465088]"
            ]
          },
          "metadata": {},
          "execution_count": 38
        }
      ],
      "source": [
        "model.evaluate(x_test,y_test)"
      ]
    },
    {
      "cell_type": "code",
      "source": [
        "print(x_test ,y_test)"
      ],
      "metadata": {
        "id": "5hIl9d-mennt",
        "colab": {
          "base_uri": "https://localhost:8080/"
        },
        "outputId": "b0a0b524-0f99-4585-8776-6bcaba332111"
      },
      "execution_count": null,
      "outputs": [
        {
          "output_type": "stream",
          "name": "stdout",
          "text": [
            "[[  0   0   0 ...   8   1  66]\n",
            " [  0   0   0 ...  41 421  33]\n",
            " [  0   0   0 ... 860   2 861]\n",
            " ...\n",
            " [  0   0   0 ... 597  47 310]\n",
            " [  0   0   0 ...  59  24   2]\n",
            " [  0   0   0 ... 472 192 490]] [[1. 0. 0.]\n",
            " [0. 1. 0.]\n",
            " [1. 0. 0.]\n",
            " [1. 0. 0.]\n",
            " [0. 0. 1.]\n",
            " [0. 0. 1.]\n",
            " [1. 0. 0.]\n",
            " [1. 0. 0.]\n",
            " [1. 0. 0.]\n",
            " [0. 0. 1.]\n",
            " [0. 1. 0.]\n",
            " [0. 1. 0.]\n",
            " [0. 1. 0.]\n",
            " [0. 1. 0.]\n",
            " [1. 0. 0.]\n",
            " [0. 0. 1.]\n",
            " [1. 0. 0.]\n",
            " [0. 1. 0.]\n",
            " [1. 0. 0.]\n",
            " [0. 1. 0.]\n",
            " [0. 1. 0.]\n",
            " [0. 1. 0.]\n",
            " [0. 0. 1.]\n",
            " [0. 1. 0.]\n",
            " [0. 1. 0.]\n",
            " [0. 0. 1.]\n",
            " [1. 0. 0.]\n",
            " [1. 0. 0.]\n",
            " [0. 0. 1.]\n",
            " [1. 0. 0.]\n",
            " [1. 0. 0.]\n",
            " [0. 0. 1.]\n",
            " [0. 1. 0.]\n",
            " [1. 0. 0.]\n",
            " [0. 1. 0.]\n",
            " [0. 0. 1.]\n",
            " [1. 0. 0.]\n",
            " [0. 0. 1.]\n",
            " [0. 1. 0.]\n",
            " [0. 1. 0.]\n",
            " [0. 1. 0.]\n",
            " [0. 1. 0.]\n",
            " [0. 1. 0.]\n",
            " [1. 0. 0.]\n",
            " [1. 0. 0.]\n",
            " [0. 0. 1.]\n",
            " [0. 0. 1.]\n",
            " [0. 1. 0.]\n",
            " [1. 0. 0.]\n",
            " [0. 1. 0.]\n",
            " [0. 1. 0.]\n",
            " [0. 0. 1.]\n",
            " [0. 0. 1.]\n",
            " [0. 0. 1.]\n",
            " [0. 0. 1.]\n",
            " [0. 1. 0.]\n",
            " [0. 0. 1.]\n",
            " [0. 1. 0.]\n",
            " [0. 1. 0.]\n",
            " [0. 1. 0.]\n",
            " [0. 1. 0.]\n",
            " [0. 1. 0.]\n",
            " [1. 0. 0.]\n",
            " [0. 0. 1.]\n",
            " [0. 1. 0.]\n",
            " [0. 0. 1.]\n",
            " [1. 0. 0.]\n",
            " [1. 0. 0.]\n",
            " [0. 1. 0.]\n",
            " [0. 1. 0.]\n",
            " [0. 0. 1.]\n",
            " [0. 1. 0.]\n",
            " [1. 0. 0.]\n",
            " [1. 0. 0.]\n",
            " [0. 0. 1.]\n",
            " [0. 1. 0.]\n",
            " [0. 0. 1.]\n",
            " [0. 1. 0.]\n",
            " [0. 0. 1.]\n",
            " [0. 1. 0.]\n",
            " [0. 0. 1.]\n",
            " [1. 0. 0.]\n",
            " [1. 0. 0.]\n",
            " [1. 0. 0.]\n",
            " [0. 0. 1.]\n",
            " [0. 0. 1.]\n",
            " [0. 1. 0.]\n",
            " [0. 0. 1.]\n",
            " [1. 0. 0.]\n",
            " [1. 0. 0.]]\n"
          ]
        }
      ]
    },
    {
      "cell_type": "code",
      "source": [
        "import numpy as np\n",
        "act=[]\n",
        "for t in range(len(y_test)):\n",
        "  act.append(np.argmax(y_test[t]))\n",
        "print(act)"
      ],
      "metadata": {
        "colab": {
          "base_uri": "https://localhost:8080/"
        },
        "id": "xC6lp0EOAzpV",
        "outputId": "8dd48e3b-dfc2-4b6e-98c3-0305bf4820d3"
      },
      "execution_count": null,
      "outputs": [
        {
          "output_type": "stream",
          "name": "stdout",
          "text": [
            "[0, 1, 0, 0, 2, 2, 0, 0, 0, 2, 1, 1, 1, 1, 0, 2, 0, 1, 0, 1, 1, 1, 2, 1, 1, 2, 0, 0, 2, 0, 0, 2, 1, 0, 1, 2, 0, 2, 1, 1, 1, 1, 1, 0, 0, 2, 2, 1, 0, 1, 1, 2, 2, 2, 2, 1, 2, 1, 1, 1, 1, 1, 0, 2, 1, 2, 0, 0, 1, 1, 2, 1, 0, 0, 2, 1, 2, 1, 2, 1, 2, 0, 0, 0, 2, 2, 1, 2, 0, 0]\n"
          ]
        }
      ]
    },
    {
      "cell_type": "code",
      "source": [
        "temp_p=model.predict(x_test)\n",
        "predict=[]\n",
        "for u in range(len(x_test)):\n",
        "  predict.append(np.argmax(temp_p[u]))\n",
        "print(predict)"
      ],
      "metadata": {
        "colab": {
          "base_uri": "https://localhost:8080/"
        },
        "id": "vrKHvEl9FdOh",
        "outputId": "75cb5b2b-fcc4-40a5-8a16-5dd671a19764"
      },
      "execution_count": null,
      "outputs": [
        {
          "output_type": "stream",
          "name": "stdout",
          "text": [
            "3/3 [==============================] - 0s 20ms/step\n",
            "[0, 1, 1, 0, 0, 0, 2, 0, 0, 0, 0, 1, 1, 1, 2, 2, 0, 1, 0, 1, 2, 0, 2, 1, 1, 1, 1, 2, 2, 1, 1, 2, 1, 2, 1, 0, 2, 2, 1, 1, 1, 1, 2, 0, 1, 2, 0, 0, 1, 1, 1, 2, 2, 1, 0, 1, 0, 1, 1, 1, 1, 1, 0, 0, 2, 2, 0, 1, 2, 0, 1, 1, 1, 0, 2, 2, 2, 2, 1, 1, 0, 0, 1, 2, 2, 2, 1, 2, 2, 1]\n"
          ]
        }
      ]
    },
    {
      "cell_type": "code",
      "execution_count": null,
      "metadata": {
        "id": "buibcRdKp20B",
        "colab": {
          "base_uri": "https://localhost:8080/",
          "height": 283
        },
        "outputId": "0213eb79-5213-4f7a-fc27-b2d16d4ea273"
      },
      "outputs": [
        {
          "output_type": "display_data",
          "data": {
            "text/plain": [
              "<Figure size 432x288 with 2 Axes>"
            ],
            "image/png": "[encoded data removed]"
          },
          "metadata": {
            "needs_background": "light"
          }
        }
      ],
      "source": [
        "import matplotlib.pyplot as plt\n",
        "from sklearn import metrics\n",
        "\n",
        "neutral = np.random.binomial(1,.9,size = 90)\n",
        "positive = np.random.binomial(1,.9,size = 90)\n",
        "negative = np.random.binomial(1,.9,size = 90)\n",
        "confusion_matrix = metrics.confusion_matrix(act,predict)\n",
        "\n",
        "cm_display = metrics.ConfusionMatrixDisplay(confusion_matrix = confusion_matrix, display_labels = ['Neutral', \"Positive\",\"Negative\"])\n",
        "\n",
        "cm_display.plot()\n",
        "plt.show()"
      ]
    },
    {
      "cell_type": "code",
      "execution_count": null,
      "metadata": {
        "id": "rcd7avBcVezd",
        "colab": {
          "base_uri": "https://localhost:8080/"
        },
        "outputId": "b5f212b0-ff0c-4d83-9994-b2189555e491"
      },
      "outputs": [
        {
          "output_type": "stream",
          "name": "stdout",
          "text": [
            "3/3 [==============================] - 0s 11ms/step\n",
            "[[8.50433171e-01 6.24923855e-02 8.70745033e-02]\n",
            " [2.30205711e-02 9.45546985e-01 3.14323977e-02]\n",
            " [1.82867616e-01 4.27084446e-01 3.90047878e-01]\n",
            " [3.69588405e-01 3.46794009e-01 2.83617556e-01]\n",
            " [3.94157469e-01 3.63937199e-01 2.41905317e-01]\n",
            " [4.34632540e-01 1.91450253e-01 3.73917252e-01]\n",
            " [2.33002409e-01 9.13263038e-02 6.75671339e-01]\n",
            " [9.97845888e-01 7.49284925e-04 1.40481547e-03]\n",
            " [7.19519198e-01 5.70364892e-02 2.23444343e-01]\n",
            " [5.54054499e-01 1.06669262e-01 3.39276224e-01]\n",
            " [6.20980978e-01 2.50657089e-02 3.53953272e-01]\n",
            " [2.41053209e-01 5.89252830e-01 1.69693902e-01]\n",
            " [7.80345639e-04 9.89337921e-01 9.88168642e-03]\n",
            " [2.53050834e-01 6.69054210e-01 7.78949410e-02]\n",
            " [3.41532052e-01 2.26786025e-02 6.35789335e-01]\n",
            " [6.73230216e-02 2.53380984e-02 9.07338858e-01]\n",
            " [5.70821881e-01 1.07983947e-01 3.21194112e-01]\n",
            " [2.48286291e-03 9.96674895e-01 8.42260313e-04]\n",
            " [8.35917175e-01 5.36125153e-02 1.10470317e-01]\n",
            " [8.17492697e-03 9.87440586e-01 4.38453723e-03]\n",
            " [7.26354569e-02 3.90545756e-01 5.36818743e-01]\n",
            " [7.09547043e-01 1.28431991e-01 1.62020966e-01]\n",
            " [1.37376264e-02 8.17222521e-03 9.78090167e-01]\n",
            " [1.61719128e-01 5.96581876e-01 2.41699025e-01]\n",
            " [1.73800215e-02 9.57892001e-01 2.47279834e-02]\n",
            " [1.90095201e-01 6.45788848e-01 1.64115965e-01]\n",
            " [2.65277535e-01 4.94229347e-01 2.40493134e-01]\n",
            " [3.35138440e-01 2.48357225e-02 6.40025854e-01]\n",
            " [5.41791180e-03 1.14147011e-02 9.83167350e-01]\n",
            " [1.62168160e-01 7.62807906e-01 7.50238970e-02]\n",
            " [1.85237750e-01 6.77458048e-01 1.37304232e-01]\n",
            " [6.80597790e-04 6.33857926e-05 9.99255955e-01]\n",
            " [5.03452634e-03 9.68834281e-01 2.61312295e-02]\n",
            " [1.45096242e-01 4.59613428e-02 8.08942378e-01]\n",
            " [1.24049699e-03 9.90304530e-01 8.45493842e-03]\n",
            " [9.64274526e-01 2.83306721e-03 3.28923576e-02]\n",
            " [1.39683988e-02 1.86067633e-02 9.67424810e-01]\n",
            " [3.39617640e-01 1.00808144e-01 5.59574246e-01]\n",
            " [1.49502099e-01 7.80054867e-01 7.04430342e-02]\n",
            " [8.19679275e-02 8.96661758e-01 2.13702787e-02]\n",
            " [1.13351215e-02 9.80629861e-01 8.03497341e-03]\n",
            " [5.78734605e-03 9.81118560e-01 1.30940489e-02]\n",
            " [5.09678125e-02 2.83082902e-01 6.65949285e-01]\n",
            " [8.63541245e-01 3.18707302e-02 1.04588121e-01]\n",
            " [6.27074093e-02 8.15677464e-01 1.21615179e-01]\n",
            " [8.03950503e-02 6.43922761e-03 9.13165748e-01]\n",
            " [6.31111383e-01 1.32701695e-01 2.36186922e-01]\n",
            " [6.82610393e-01 2.45564207e-01 7.18253478e-02]\n",
            " [1.08803902e-02 9.81633961e-01 7.48561742e-03]\n",
            " [9.95849222e-02 5.95317960e-01 3.05097133e-01]\n",
            " [1.56349853e-01 6.21724308e-01 2.21925840e-01]\n",
            " [2.80107081e-01 3.26493457e-02 6.87243581e-01]\n",
            " [1.33992031e-01 3.87301087e-01 4.78706896e-01]\n",
            " [1.03631886e-02 9.40131366e-01 4.95054275e-02]\n",
            " [8.31294179e-01 1.64964441e-02 1.52209371e-01]\n",
            " [4.73233126e-03 9.83565867e-01 1.17017571e-02]\n",
            " [7.00656950e-01 8.68495628e-02 2.12493435e-01]\n",
            " [2.71023158e-03 9.93225873e-01 4.06386331e-03]\n",
            " [1.01267186e-04 9.99420404e-01 4.78295551e-04]\n",
            " [2.09940225e-01 6.56132579e-01 1.33927137e-01]\n",
            " [3.33157964e-02 8.10963273e-01 1.55720964e-01]\n",
            " [2.53955930e-01 5.07612586e-01 2.38431498e-01]\n",
            " [6.56079054e-01 2.69281641e-02 3.16992760e-01]\n",
            " [4.05429453e-01 3.03587109e-01 2.90983409e-01]\n",
            " [1.01169638e-01 3.63505900e-01 5.35324454e-01]\n",
            " [2.73609579e-01 3.57295066e-01 3.69095355e-01]\n",
            " [8.55392992e-01 4.40609679e-02 1.00546047e-01]\n",
            " [1.14609115e-03 9.97960806e-01 8.93042539e-04]\n",
            " [2.27553099e-01 2.38547809e-02 7.48592138e-01]\n",
            " [5.89450836e-01 3.21010858e-01 8.95383433e-02]\n",
            " [1.14193215e-04 9.99236345e-01 6.49405119e-04]\n",
            " [4.83722752e-03 9.88742948e-01 6.41972665e-03]\n",
            " [2.26722494e-01 4.07152563e-01 3.66124958e-01]\n",
            " [5.77769220e-01 1.05695717e-01 3.16535056e-01]\n",
            " [4.95614775e-04 8.35130049e-05 9.99420881e-01]\n",
            " [5.32856919e-02 1.64439410e-01 7.82274842e-01]\n",
            " [3.87373328e-01 4.89517935e-02 5.63674867e-01]\n",
            " [6.01819679e-02 4.54853117e-01 4.84964937e-01]\n",
            " [3.03115278e-01 5.00456452e-01 1.96428314e-01]\n",
            " [2.89640307e-01 4.72634166e-01 2.37725586e-01]\n",
            " [4.79859918e-01 2.22482651e-01 2.97657490e-01]\n",
            " [6.92831576e-01 3.45196053e-02 2.72648752e-01]\n",
            " [3.55443209e-01 3.81159812e-01 2.63396978e-01]\n",
            " [2.44467318e-01 1.32212743e-01 6.23319924e-01]\n",
            " [2.02192925e-02 2.79179425e-03 9.76988971e-01]\n",
            " [1.95923820e-02 5.13542863e-03 9.75272238e-01]\n",
            " [8.29803199e-03 9.66018796e-01 2.56830510e-02]\n",
            " [8.13198164e-02 3.71681750e-02 8.81512046e-01]\n",
            " [2.71790296e-01 7.82011896e-02 6.50008500e-01]\n",
            " [4.71506035e-03 9.83615339e-01 1.16695752e-02]]\n"
          ]
        }
      ],
      "source": [
        "import numpy as np\n",
        "predict=model.predict(x_test)\n",
        "print(predict)"
      ]
    },
    {
      "cell_type": "code",
      "execution_count": null,
      "metadata": {
        "id": "BH9E3vxJnljl"
      },
      "outputs": [],
      "source": [
        "#Tokenize\n",
        "i=0\n",
        "count=0\n",
        "def tokenize (data):\n",
        "    ls=[]\n",
        "    data1 = p.tokenize(str(data),is_sent=\"True\")\n",
        "    for j in range(len(data1['tokens'])):\n",
        "      temp = data1['tokens'][j]\n",
        "      ls.append(str(temp['text']))\n",
        "    data=ls\n",
        "    punc(data)"
      ]
    },
    {
      "cell_type": "code",
      "execution_count": null,
      "metadata": {
        "id": "D4ulakKBnlgW"
      },
      "outputs": [],
      "source": [
        "#Punctuation Removal\n",
        "def punc (data):\n",
        "  ls=[]\n",
        "  punc = string.punctuation\n",
        "  for i in range(len(data)):\n",
        "    temp=data[i]\n",
        "    if temp not in punc:\n",
        "      ls.append(temp)\n",
        "  print(ls)\n",
        "  stop(ls)"
      ]
    },
    {
      "cell_type": "code",
      "execution_count": null,
      "metadata": {
        "id": "6EGFPPjXnlcq"
      },
      "outputs": [],
      "source": [
        "#stopwords removal\n",
        "def stop (data):\n",
        "  ls=[]\n",
        "  for i in range(len(data)):\n",
        "    temp=data[i]\n",
        "    if temp not in stopwords:\n",
        "      ls.append(temp)\n",
        "  print(ls)\n",
        "  lemmatization(ls)"
      ]
    },
    {
      "cell_type": "code",
      "execution_count": null,
      "metadata": {
        "id": "EQBPEo1pothb"
      },
      "outputs": [],
      "source": [
        "#lemma\n",
        "def lemmatization(data):\n",
        "    alp=data\n",
        "    temp=[]\n",
        "    for AB in range(len(alp)):\n",
        "      test=alp[AB]\n",
        "      a=p.lemmatize(test)\n",
        "      b=a['sentences']\n",
        "      c=b[0]\n",
        "      d=c['tokens']\n",
        "      e=d[0]\n",
        "      try:\n",
        "        temp.append(e['lemma'])\n",
        "      except:\n",
        "        f=e['expanded']\n",
        "        for i in range(len(f)):\n",
        "          g=f[i]\n",
        "          temp.append(g['lemma'])\n",
        "\n",
        "    data=temp\n",
        "    print(data)\n",
        "    encode_predict(data)"
      ]
    },
    {
      "cell_type": "code",
      "execution_count": null,
      "metadata": {
        "id": "QRzZhfvdpGXv"
      },
      "outputs": [],
      "source": [
        "#Encoding\n",
        "def encode_predict(data):\n",
        "  data=\" \".join(data)\n",
        "  data=[data]\n",
        "  # tokenizer = Tokenizer(num_words=1000, split=' ')\n",
        "  print(data)\n",
        "  tokenizer.fit_on_texts(data)\n",
        "  X = tokenizer.texts_to_sequences(data)\n",
        "  X = pad_sequences(X,maxlen=34)\n",
        "  print(model.predict(X))\n",
        "  index=np.argmax(model.predict(X))\n",
        "  if index==0:\n",
        "    print(\"Neutral Review\")\n",
        "  elif index==1:\n",
        "    print(\"Positive Review\")\n",
        "  elif index==2:\n",
        "    print(\"negative Review\")"
      ]
    },
    {
      "cell_type": "code",
      "execution_count": null,
      "metadata": {
        "id": "aKmzaisrjikE",
        "colab": {
          "base_uri": "https://localhost:8080/"
        },
        "outputId": "f4fbd5b4-ecb3-436e-a1cc-ab04bd49c687"
      },
      "outputs": [
        {
          "output_type": "stream",
          "name": "stdout",
          "text": [
            "['பின்னணி', 'இசையிலும்', 'பின்னி', 'பெடலெடுத்துள்ளார்', 'சந்தோஷ்', 'நாரயணன்']\n",
            "['பின்னணி', 'இசையிலும்', 'பின்னி', 'பெடலெடுத்துள்ளார்', 'சந்தோஷ்', 'நாரயணன்']\n",
            "['பின்னணி', 'இசை', 'உம்', 'பின்னி', 'பெடலெடுத்து', 'உள்', 'சந்தோஷ்', 'நாரயணன்']\n",
            "['பின்னணி இசை உம் பின்னி பெடலெடுத்து உள் சந்தோஷ் நாரயணன்']\n",
            "1/1 [==============================] - 0s 23ms/step\n",
            "[[0.14231582 0.21568204 0.64200217]]\n",
            "1/1 [==============================] - 0s 24ms/step\n",
            "negative Review\n"
          ]
        }
      ],
      "source": [
        "sentence=\"பின்னணி இசையிலும் பின்னி பெடலெடுத்துள்ளார் சந்தோஷ் நாரயணன்.\"\n",
        "tokenize(sentence)"
      ]
    },
    {
      "cell_type": "code",
      "source": [
        "data.head(5)"
      ],
      "metadata": {
        "id": "LMGJuJZhNTF-",
        "colab": {
          "base_uri": "https://localhost:8080/",
          "height": 424
        },
        "outputId": "895661ab-8a3a-4df0-8b62-fb1d613e4386"
      },
      "execution_count": null,
      "outputs": [
        {
          "output_type": "execute_result",
          "data": {
            "text/plain": [
              "   sent_id                                           sentence  sentiment  \\\n",
              "0        1  பின்னணி இசையிலும் பின்னி பெடலெடுத்துள்ளார் சந்...          1   \n",
              "1        2  ரஞ்சித் சூப்பர்ஸ்டாரை தன்னுடைய கதைக்கேற்ப முழு...          0   \n",
              "2        3  படத்தில் தன்னுடைய வழக்கமான பல சிம்பாளிக் காட்ச...          0   \n",
              "3        4                         வசனங்களில் அசத்தியுள்ளார்.          1   \n",
              "4        5  அவருக்கே உரிய பாணியில் வழக்கம்போல் அழகாக நடித்...          1   \n",
              "\n",
              "                                            tokenize  \\\n",
              "0  [பின்னணி, இசையிலும், பின்னி, பெடலெடுத்துள்ளார்...   \n",
              "1  [ரஞ்சித், சூப்பர்ஸ்டாரை, தன்னுடைய, கதைக்கேற்ப,...   \n",
              "2  [படத்தில், தன்னுடைய, வழக்கமான, பல, சிம்பாளிக்,...   \n",
              "3                    [வசனங்களில், அசத்தியுள்ளார், .]   \n",
              "4  [அவருக்கே, உரிய, பாணியில், வழக்கம்போல், அழகாக,...   \n",
              "\n",
              "                                             no_punc  \\\n",
              "0  [பின்னணி, இசையிலும், பின்னி, பெடலெடுத்துள்ளார்...   \n",
              "1  [ரஞ்சித், சூப்பர்ஸ்டாரை, தன்னுடைய, கதைக்கேற்ப,...   \n",
              "2  [படத்தில், தன்னுடைய, வழக்கமான, பல, சிம்பாளிக்,...   \n",
              "3                       [வசனங்களில், அசத்தியுள்ளார்]   \n",
              "4  [அவருக்கே, உரிய, பாணியில், வழக்கம்போல், அழகாக,...   \n",
              "\n",
              "                                   stopwords_removed  \\\n",
              "0  [பின்னணி, இசையிலும், பின்னி, பெடலெடுத்துள்ளார்...   \n",
              "1  [ரஞ்சித், சூப்பர்ஸ்டாரை, தன்னுடைய, கதைக்கேற்ப,...   \n",
              "2  [படத்தில், தன்னுடைய, வழக்கமான, சிம்பாளிக், காட...   \n",
              "3                       [வசனங்களில், அசத்தியுள்ளார்]   \n",
              "4  [அவருக்கே, உரிய, பாணியில், வழக்கம்போல், அழகாக,...   \n",
              "\n",
              "                                               lemma  \n",
              "0  [பின்னணி, இசை, உம், பின்னி, பெடலெடுத்து, உள், ...  \n",
              "1  [ரஞ்சித், சூப்பர், தன்னுடையம், கதை, முழுமையாக,...  \n",
              "2  [படத்து, தன்னுடையம், வழக்கம், சிம்பாளி, காட்சி...  \n",
              "3                               [வசனம், அசத்து, உள்]  \n",
              "4  [அவர், உரிய, பாணி, வழக்கம்போல், அழகாகு, நடி, க...  "
            ],
            "text/html": [
              "\n",
              "  <div id=\"df-4e92f522-2910-41be-aef5-97b9ded2a52c\">\n",
              "    <div class=\"colab-df-container\">\n",
              "      <div>\n",
              "<style scoped>\n",
              "    .dataframe tbody tr th:only-of-type {\n",
              "        vertical-align: middle;\n",
              "    }\n",
              "\n",
              "    .dataframe tbody tr th {\n",
              "        vertical-align: top;\n",
              "    }\n",
              "\n",
              "    .dataframe thead th {\n",
              "        text-align: right;\n",
              "    }\n",
              "</style>\n",
              "<table border=\"1\" class=\"dataframe\">\n",
              "  <thead>\n",
              "    <tr style=\"text-align: right;\">\n",
              "      <th></th>\n",
              "      <th>sent_id</th>\n",
              "      <th>sentence</th>\n",
              "      <th>sentiment</th>\n",
              "      <th>tokenize</th>\n",
              "      <th>no_punc</th>\n",
              "      <th>stopwords_removed</th>\n",
              "      <th>lemma</th>\n",
              "    </tr>\n",
              "  </thead>\n",
              "  <tbody>\n",
              "    <tr>\n",
              "      <th>0</th>\n",
              "      <td>1</td>\n",
              "      <td>பின்னணி இசையிலும் பின்னி பெடலெடுத்துள்ளார் சந்...</td>\n",
              "      <td>1</td>\n",
              "      <td>[பின்னணி, இசையிலும், பின்னி, பெடலெடுத்துள்ளார்...</td>\n",
              "      <td>[பின்னணி, இசையிலும், பின்னி, பெடலெடுத்துள்ளார்...</td>\n",
              "      <td>[பின்னணி, இசையிலும், பின்னி, பெடலெடுத்துள்ளார்...</td>\n",
              "      <td>[பின்னணி, இசை, உம், பின்னி, பெடலெடுத்து, உள், ...</td>\n",
              "    </tr>\n",
              "    <tr>\n",
              "      <th>1</th>\n",
              "      <td>2</td>\n",
              "      <td>ரஞ்சித் சூப்பர்ஸ்டாரை தன்னுடைய கதைக்கேற்ப முழு...</td>\n",
              "      <td>0</td>\n",
              "      <td>[ரஞ்சித், சூப்பர்ஸ்டாரை, தன்னுடைய, கதைக்கேற்ப,...</td>\n",
              "      <td>[ரஞ்சித், சூப்பர்ஸ்டாரை, தன்னுடைய, கதைக்கேற்ப,...</td>\n",
              "      <td>[ரஞ்சித், சூப்பர்ஸ்டாரை, தன்னுடைய, கதைக்கேற்ப,...</td>\n",
              "      <td>[ரஞ்சித், சூப்பர், தன்னுடையம், கதை, முழுமையாக,...</td>\n",
              "    </tr>\n",
              "    <tr>\n",
              "      <th>2</th>\n",
              "      <td>3</td>\n",
              "      <td>படத்தில் தன்னுடைய வழக்கமான பல சிம்பாளிக் காட்ச...</td>\n",
              "      <td>0</td>\n",
              "      <td>[படத்தில், தன்னுடைய, வழக்கமான, பல, சிம்பாளிக்,...</td>\n",
              "      <td>[படத்தில், தன்னுடைய, வழக்கமான, பல, சிம்பாளிக்,...</td>\n",
              "      <td>[படத்தில், தன்னுடைய, வழக்கமான, சிம்பாளிக், காட...</td>\n",
              "      <td>[படத்து, தன்னுடையம், வழக்கம், சிம்பாளி, காட்சி...</td>\n",
              "    </tr>\n",
              "    <tr>\n",
              "      <th>3</th>\n",
              "      <td>4</td>\n",
              "      <td>வசனங்களில் அசத்தியுள்ளார்.</td>\n",
              "      <td>1</td>\n",
              "      <td>[வசனங்களில், அசத்தியுள்ளார், .]</td>\n",
              "      <td>[வசனங்களில், அசத்தியுள்ளார்]</td>\n",
              "      <td>[வசனங்களில், அசத்தியுள்ளார்]</td>\n",
              "      <td>[வசனம், அசத்து, உள்]</td>\n",
              "    </tr>\n",
              "    <tr>\n",
              "      <th>4</th>\n",
              "      <td>5</td>\n",
              "      <td>அவருக்கே உரிய பாணியில் வழக்கம்போல் அழகாக நடித்...</td>\n",
              "      <td>1</td>\n",
              "      <td>[அவருக்கே, உரிய, பாணியில், வழக்கம்போல், அழகாக,...</td>\n",
              "      <td>[அவருக்கே, உரிய, பாணியில், வழக்கம்போல், அழகாக,...</td>\n",
              "      <td>[அவருக்கே, உரிய, பாணியில், வழக்கம்போல், அழகாக,...</td>\n",
              "      <td>[அவர், உரிய, பாணி, வழக்கம்போல், அழகாகு, நடி, க...</td>\n",
              "    </tr>\n",
              "  </tbody>\n",
              "</table>\n",
              "</div>\n",
              "      <button class=\"colab-df-convert\" onclick=\"convertToInteractive('df-4e92f522-2910-41be-aef5-97b9ded2a52c')\"\n",
              "              title=\"Convert this dataframe to an interactive table.\"\n",
              "              style=\"display:none;\">\n",
              "        \n",
              "  <svg xmlns=\"http://www.w3.org/2000/svg\" height=\"24px\"viewBox=\"0 0 24 24\"\n",
              "       width=\"24px\">\n",
              "    <path d=\"M0 0h24v24H0V0z\" fill=\"none\"/>\n",
              "    <path d=\"M18.56 5.44l.94 2.06.94-2.06 2.06-.94-2.06-.94-.94-2.06-.94 2.06-2.06.94zm-11 1L8.5 8.5l.94-2.06 2.06-.94-2.06-.94L8.5 2.5l-.94 2.06-2.06.94zm10 10l.94 2.06.94-2.06 2.06-.94-2.06-.94-.94-2.06-.94 2.06-2.06.94z\"/><path d=\"M17.41 7.96l-1.37-1.37c-.4-.4-.92-.59-1.43-.59-.52 0-1.04.2-1.43.59L10.3 9.45l-7.72 7.72c-.78.78-.78 2.05 0 2.83L4 21.41c.39.39.9.59 1.41.59.51 0 1.02-.2 1.41-.59l7.78-7.78 2.81-2.81c.8-.78.8-2.07 0-2.86zM5.41 20L4 18.59l7.72-7.72 1.47 1.35L5.41 20z\"/>\n",
              "  </svg>\n",
              "      </button>\n",
              "      \n",
              "  <style>\n",
              "    .colab-df-container {\n",
              "      display:flex;\n",
              "      flex-wrap:wrap;\n",
              "      gap: 12px;\n",
              "    }\n",
              "\n",
              "    .colab-df-convert {\n",
              "      background-color: #E8F0FE;\n",
              "      border: none;\n",
              "      border-radius: 50%;\n",
              "      cursor: pointer;\n",
              "      display: none;\n",
              "      fill: #1967D2;\n",
              "      height: 32px;\n",
              "      padding: 0 0 0 0;\n",
              "      width: 32px;\n",
              "    }\n",
              "\n",
              "    .colab-df-convert:hover {\n",
              "      background-color: #E2EBFA;\n",
              "      box-shadow: 0px 1px 2px rgba(60, 64, 67, 0.3), 0px 1px 3px 1px rgba(60, 64, 67, 0.15);\n",
              "      fill: #174EA6;\n",
              "    }\n",
              "\n",
              "    [theme=dark] .colab-df-convert {\n",
              "      background-color: #3B4455;\n",
              "      fill: #D2E3FC;\n",
              "    }\n",
              "\n",
              "    [theme=dark] .colab-df-convert:hover {\n",
              "      background-color: #434B5C;\n",
              "      box-shadow: 0px 1px 3px 1px rgba(0, 0, 0, 0.15);\n",
              "      filter: drop-shadow(0px 1px 2px rgba(0, 0, 0, 0.3));\n",
              "      fill: #FFFFFF;\n",
              "    }\n",
              "  </style>\n",
              "\n",
              "      <script>\n",
              "        const buttonEl =\n",
              "          document.querySelector('#df-4e92f522-2910-41be-aef5-97b9ded2a52c button.colab-df-convert');\n",
              "        buttonEl.style.display =\n",
              "          google.colab.kernel.accessAllowed ? 'block' : 'none';\n",
              "\n",
              "        async function convertToInteractive(key) {\n",
              "          const element = document.querySelector('#df-4e92f522-2910-41be-aef5-97b9ded2a52c');\n",
              "          const dataTable =\n",
              "            await google.colab.kernel.invokeFunction('convertToInteractive',\n",
              "                                                     [key], {});\n",
              "          if (!dataTable) return;\n",
              "\n",
              "          const docLinkHtml = 'Like what you see? Visit the ' +\n",
              "            '<a target=\"_blank\" href=https://colab.research.google.com/notebooks/data_table.ipynb>data table notebook</a>'\n",
              "            + ' to learn more about interactive tables.';\n",
              "          element.innerHTML = '';\n",
              "          dataTable['output_type'] = 'display_data';\n",
              "          await google.colab.output.renderOutput(dataTable, element);\n",
              "          const docLink = document.createElement('div');\n",
              "          docLink.innerHTML = docLinkHtml;\n",
              "          element.appendChild(docLink);\n",
              "        }\n",
              "      </script>\n",
              "    </div>\n",
              "  </div>\n",
              "  "
            ]
          },
          "metadata": {},
          "execution_count": 50
        }
      ]
    },
    {
      "cell_type": "code",
      "source": [
        "from keras.models import load_model\n",
        "save_path = './model.h5'\n",
        "model.save(save_path)\n",
        "## load tensorflow model\n",
        "model = keras.models.load_model(save_path)"
      ],
      "metadata": {
        "id": "-7WyMhPIhMI3",
        "colab": {
          "base_uri": "https://localhost:8080/",
          "height": 200
        },
        "outputId": "9d332a9e-080e-4cfc-bbbb-bafa4c59507e"
      },
      "execution_count": null,
      "outputs": [
        {
          "output_type": "error",
          "ename": "NameError",
          "evalue": "ignored",
          "traceback": [
            "\u001b[0;31m---------------------------------------------------------------------------\u001b[0m",
            "\u001b[0;31mNameError\u001b[0m                                 Traceback (most recent call last)",
            "\u001b[0;32m<ipython-input-51-8c645541f542>\u001b[0m in \u001b[0;36m<module>\u001b[0;34m\u001b[0m\n\u001b[1;32m      3\u001b[0m \u001b[0mmodel\u001b[0m\u001b[0;34m.\u001b[0m\u001b[0msave\u001b[0m\u001b[0;34m(\u001b[0m\u001b[0msave_path\u001b[0m\u001b[0;34m)\u001b[0m\u001b[0;34m\u001b[0m\u001b[0;34m\u001b[0m\u001b[0m\n\u001b[1;32m      4\u001b[0m \u001b[0;31m## load tensorflow model\u001b[0m\u001b[0;34m\u001b[0m\u001b[0;34m\u001b[0m\u001b[0;34m\u001b[0m\u001b[0m\n\u001b[0;32m----> 5\u001b[0;31m \u001b[0mmodel\u001b[0m \u001b[0;34m=\u001b[0m \u001b[0mkeras\u001b[0m\u001b[0;34m.\u001b[0m\u001b[0mmodels\u001b[0m\u001b[0;34m.\u001b[0m\u001b[0mload_model\u001b[0m\u001b[0;34m(\u001b[0m\u001b[0msave_path\u001b[0m\u001b[0;34m)\u001b[0m\u001b[0;34m\u001b[0m\u001b[0;34m\u001b[0m\u001b[0m\n\u001b[0m",
            "\u001b[0;31mNameError\u001b[0m: name 'keras' is not defined"
          ]
        }
      ]
    },
    {
      "cell_type": "code",
      "source": [],
      "metadata": {
        "id": "jf3pNsxQeMp8"
      },
      "execution_count": null,
      "outputs": []
    }
  ],
  "metadata": {
    "colab": {
      "provenance": []
    },
    "kernelspec": {
      "display_name": "Python 3",
      "name": "python3"
    },
    "language_info": {
      "name": "python"
    },
    "accelerator": "GPU",
    "widgets": {
      "application/vnd.jupyter.widget-state+json": {
        "b378acfd8b1540549e82830a9bc2f041": {
          "model_module": "@jupyter-widgets/controls",
          "model_name": "HBoxModel",
          "model_module_version": "1.5.0",
          "state": {
            "_dom_classes": [],
            "_model_module": "@jupyter-widgets/controls",
            "_model_module_version": "1.5.0",
            "_model_name": "HBoxModel",
            "_view_count": null,
            "_view_module": "@jupyter-widgets/controls",
            "_view_module_version": "1.5.0",
            "_view_name": "HBoxView",
            "box_style": "",
            "children": [
              "IPY_MODEL_6b9257f60466475aa2db73a259f6e93c",
              "IPY_MODEL_54fe64cb52424dcdab01d1c969d72cde",
              "IPY_MODEL_1f221f5af87c4bf2a020c77df8b00041"
            ],
            "layout": "IPY_MODEL_8f579bbe479b4f0d8b1c860878a48791"
          }
        },
        "6b9257f60466475aa2db73a259f6e93c": {
          "model_module": "@jupyter-widgets/controls",
          "model_name": "HTMLModel",
          "model_module_version": "1.5.0",
          "state": {
            "_dom_classes": [],
            "_model_module": "@jupyter-widgets/controls",
            "_model_module_version": "1.5.0",
            "_model_name": "HTMLModel",
            "_view_count": null,
            "_view_module": "@jupyter-widgets/controls",
            "_view_module_version": "1.5.0",
            "_view_name": "HTMLView",
            "description": "",
            "description_tooltip": null,
            "layout": "IPY_MODEL_ab2a89ecf34d4b73b11504311b38a6f0",
            "placeholder": "​",
            "style": "IPY_MODEL_9f9f7cf40a9b4d80a69640919847ae53",
            "value": "Downloading: 100%"
          }
        },
        "54fe64cb52424dcdab01d1c969d72cde": {
          "model_module": "@jupyter-widgets/controls",
          "model_name": "FloatProgressModel",
          "model_module_version": "1.5.0",
          "state": {
            "_dom_classes": [],
            "_model_module": "@jupyter-widgets/controls",
            "_model_module_version": "1.5.0",
            "_model_name": "FloatProgressModel",
            "_view_count": null,
            "_view_module": "@jupyter-widgets/controls",
            "_view_module_version": "1.5.0",
            "_view_name": "ProgressView",
            "bar_style": "success",
            "description": "",
            "description_tooltip": null,
            "layout": "IPY_MODEL_775fd51d9835468588d07553549470bf",
            "max": 5069051,
            "min": 0,
            "orientation": "horizontal",
            "style": "IPY_MODEL_1399d6ed92794f7e9b0903701e0fc4cd",
            "value": 5069051
          }
        },
        "1f221f5af87c4bf2a020c77df8b00041": {
          "model_module": "@jupyter-widgets/controls",
          "model_name": "HTMLModel",
          "model_module_version": "1.5.0",
          "state": {
            "_dom_classes": [],
            "_model_module": "@jupyter-widgets/controls",
            "_model_module_version": "1.5.0",
            "_model_name": "HTMLModel",
            "_view_count": null,
            "_view_module": "@jupyter-widgets/controls",
            "_view_module_version": "1.5.0",
            "_view_name": "HTMLView",
            "description": "",
            "description_tooltip": null,
            "layout": "IPY_MODEL_bec31fcb9551461da475716a43bd9f4f",
            "placeholder": "​",
            "style": "IPY_MODEL_d93b31c0948f4fe59962b8603c062d93",
            "value": " 5.07M/5.07M [00:00&lt;00:00, 11.4MB/s]"
          }
        },
        "8f579bbe479b4f0d8b1c860878a48791": {
          "model_module": "@jupyter-widgets/base",
          "model_name": "LayoutModel",
          "model_module_version": "1.2.0",
          "state": {
            "_model_module": "@jupyter-widgets/base",
            "_model_module_version": "1.2.0",
            "_model_name": "LayoutModel",
            "_view_count": null,
            "_view_module": "@jupyter-widgets/base",
            "_view_module_version": "1.2.0",
            "_view_name": "LayoutView",
            "align_content": null,
            "align_items": null,
            "align_self": null,
            "border": null,
            "bottom": null,
            "display": null,
            "flex": null,
            "flex_flow": null,
            "grid_area": null,
            "grid_auto_columns": null,
            "grid_auto_flow": null,
            "grid_auto_rows": null,
            "grid_column": null,
            "grid_gap": null,
            "grid_row": null,
            "grid_template_areas": null,
            "grid_template_columns": null,
            "grid_template_rows": null,
            "height": null,
            "justify_content": null,
            "justify_items": null,
            "left": null,
            "margin": null,
            "max_height": null,
            "max_width": null,
            "min_height": null,
            "min_width": null,
            "object_fit": null,
            "object_position": null,
            "order": null,
            "overflow": null,
            "overflow_x": null,
            "overflow_y": null,
            "padding": null,
            "right": null,
            "top": null,
            "visibility": null,
            "width": null
          }
        },
        "ab2a89ecf34d4b73b11504311b38a6f0": {
          "model_module": "@jupyter-widgets/base",
          "model_name": "LayoutModel",
          "model_module_version": "1.2.0",
          "state": {
            "_model_module": "@jupyter-widgets/base",
            "_model_module_version": "1.2.0",
            "_model_name": "LayoutModel",
            "_view_count": null,
            "_view_module": "@jupyter-widgets/base",
            "_view_module_version": "1.2.0",
            "_view_name": "LayoutView",
            "align_content": null,
            "align_items": null,
            "align_self": null,
            "border": null,
            "bottom": null,
            "display": null,
            "flex": null,
            "flex_flow": null,
            "grid_area": null,
            "grid_auto_columns": null,
            "grid_auto_flow": null,
            "grid_auto_rows": null,
            "grid_column": null,
            "grid_gap": null,
            "grid_row": null,
            "grid_template_areas": null,
            "grid_template_columns": null,
            "grid_template_rows": null,
            "height": null,
            "justify_content": null,
            "justify_items": null,
            "left": null,
            "margin": null,
            "max_height": null,
            "max_width": null,
            "min_height": null,
            "min_width": null,
            "object_fit": null,
            "object_position": null,
            "order": null,
            "overflow": null,
            "overflow_x": null,
            "overflow_y": null,
            "padding": null,
            "right": null,
            "top": null,
            "visibility": null,
            "width": null
          }
        },
        "9f9f7cf40a9b4d80a69640919847ae53": {
          "model_module": "@jupyter-widgets/controls",
          "model_name": "DescriptionStyleModel",
          "model_module_version": "1.5.0",
          "state": {
            "_model_module": "@jupyter-widgets/controls",
            "_model_module_version": "1.5.0",
            "_model_name": "DescriptionStyleModel",
            "_view_count": null,
            "_view_module": "@jupyter-widgets/base",
            "_view_module_version": "1.2.0",
            "_view_name": "StyleView",
            "description_width": ""
          }
        },
        "775fd51d9835468588d07553549470bf": {
          "model_module": "@jupyter-widgets/base",
          "model_name": "LayoutModel",
          "model_module_version": "1.2.0",
          "state": {
            "_model_module": "@jupyter-widgets/base",
            "_model_module_version": "1.2.0",
            "_model_name": "LayoutModel",
            "_view_count": null,
            "_view_module": "@jupyter-widgets/base",
            "_view_module_version": "1.2.0",
            "_view_name": "LayoutView",
            "align_content": null,
            "align_items": null,
            "align_self": null,
            "border": null,
            "bottom": null,
            "display": null,
            "flex": null,
            "flex_flow": null,
            "grid_area": null,
            "grid_auto_columns": null,
            "grid_auto_flow": null,
            "grid_auto_rows": null,
            "grid_column": null,
            "grid_gap": null,
            "grid_row": null,
            "grid_template_areas": null,
            "grid_template_columns": null,
            "grid_template_rows": null,
            "height": null,
            "justify_content": null,
            "justify_items": null,
            "left": null,
            "margin": null,
            "max_height": null,
            "max_width": null,
            "min_height": null,
            "min_width": null,
            "object_fit": null,
            "object_position": null,
            "order": null,
            "overflow": null,
            "overflow_x": null,
            "overflow_y": null,
            "padding": null,
            "right": null,
            "top": null,
            "visibility": null,
            "width": null
          }
        },
        "1399d6ed92794f7e9b0903701e0fc4cd": {
          "model_module": "@jupyter-widgets/controls",
          "model_name": "ProgressStyleModel",
          "model_module_version": "1.5.0",
          "state": {
            "_model_module": "@jupyter-widgets/controls",
            "_model_module_version": "1.5.0",
            "_model_name": "ProgressStyleModel",
            "_view_count": null,
            "_view_module": "@jupyter-widgets/base",
            "_view_module_version": "1.2.0",
            "_view_name": "StyleView",
            "bar_color": null,
            "description_width": ""
          }
        },
        "bec31fcb9551461da475716a43bd9f4f": {
          "model_module": "@jupyter-widgets/base",
          "model_name": "LayoutModel",
          "model_module_version": "1.2.0",
          "state": {
            "_model_module": "@jupyter-widgets/base",
            "_model_module_version": "1.2.0",
            "_model_name": "LayoutModel",
            "_view_count": null,
            "_view_module": "@jupyter-widgets/base",
            "_view_module_version": "1.2.0",
            "_view_name": "LayoutView",
            "align_content": null,
            "align_items": null,
            "align_self": null,
            "border": null,
            "bottom": null,
            "display": null,
            "flex": null,
            "flex_flow": null,
            "grid_area": null,
            "grid_auto_columns": null,
            "grid_auto_flow": null,
            "grid_auto_rows": null,
            "grid_column": null,
            "grid_gap": null,
            "grid_row": null,
            "grid_template_areas": null,
            "grid_template_columns": null,
            "grid_template_rows": null,
            "height": null,
            "justify_content": null,
            "justify_items": null,
            "left": null,
            "margin": null,
            "max_height": null,
            "max_width": null,
            "min_height": null,
            "min_width": null,
            "object_fit": null,
            "object_position": null,
            "order": null,
            "overflow": null,
            "overflow_x": null,
            "overflow_y": null,
            "padding": null,
            "right": null,
            "top": null,
            "visibility": null,
            "width": null
          }
        },
        "d93b31c0948f4fe59962b8603c062d93": {
          "model_module": "@jupyter-widgets/controls",
          "model_name": "DescriptionStyleModel",
          "model_module_version": "1.5.0",
          "state": {
            "_model_module": "@jupyter-widgets/controls",
            "_model_module_version": "1.5.0",
            "_model_name": "DescriptionStyleModel",
            "_view_count": null,
            "_view_module": "@jupyter-widgets/base",
            "_view_module_version": "1.2.0",
            "_view_name": "StyleView",
            "description_width": ""
          }
        },
        "ea0a1883f4e549debb07cb7f8279444c": {
          "model_module": "@jupyter-widgets/controls",
          "model_name": "HBoxModel",
          "model_module_version": "1.5.0",
          "state": {
            "_dom_classes": [],
            "_model_module": "@jupyter-widgets/controls",
            "_model_module_version": "1.5.0",
            "_model_name": "HBoxModel",
            "_view_count": null,
            "_view_module": "@jupyter-widgets/controls",
            "_view_module_version": "1.5.0",
            "_view_name": "HBoxView",
            "box_style": "",
            "children": [
              "IPY_MODEL_e793470020394f02801fa265aab9d069",
              "IPY_MODEL_e237c32c332843449f30e2d1391f2f96",
              "IPY_MODEL_7d820e704963402ab839c41cc167c844"
            ],
            "layout": "IPY_MODEL_e4de21499eb24a1596f7f1fff0ad3c94"
          }
        },
        "e793470020394f02801fa265aab9d069": {
          "model_module": "@jupyter-widgets/controls",
          "model_name": "HTMLModel",
          "model_module_version": "1.5.0",
          "state": {
            "_dom_classes": [],
            "_model_module": "@jupyter-widgets/controls",
            "_model_module_version": "1.5.0",
            "_model_name": "HTMLModel",
            "_view_count": null,
            "_view_module": "@jupyter-widgets/controls",
            "_view_module_version": "1.5.0",
            "_view_name": "HTMLView",
            "description": "",
            "description_tooltip": null,
            "layout": "IPY_MODEL_f80ebf5e11a74a5fa16016690432a88c",
            "placeholder": "​",
            "style": "IPY_MODEL_401cd579922d48908a99ce2325b91838",
            "value": "Downloading: 100%"
          }
        },
        "e237c32c332843449f30e2d1391f2f96": {
          "model_module": "@jupyter-widgets/controls",
          "model_name": "FloatProgressModel",
          "model_module_version": "1.5.0",
          "state": {
            "_dom_classes": [],
            "_model_module": "@jupyter-widgets/controls",
            "_model_module_version": "1.5.0",
            "_model_name": "FloatProgressModel",
            "_view_count": null,
            "_view_module": "@jupyter-widgets/controls",
            "_view_module_version": "1.5.0",
            "_view_name": "ProgressView",
            "bar_style": "success",
            "description": "",
            "description_tooltip": null,
            "layout": "IPY_MODEL_87c4462e0a1f4175afbaf16673113a76",
            "max": 512,
            "min": 0,
            "orientation": "horizontal",
            "style": "IPY_MODEL_d4a31c72e094440c969340ac7ca10002",
            "value": 512
          }
        },
        "7d820e704963402ab839c41cc167c844": {
          "model_module": "@jupyter-widgets/controls",
          "model_name": "HTMLModel",
          "model_module_version": "1.5.0",
          "state": {
            "_dom_classes": [],
            "_model_module": "@jupyter-widgets/controls",
            "_model_module_version": "1.5.0",
            "_model_name": "HTMLModel",
            "_view_count": null,
            "_view_module": "@jupyter-widgets/controls",
            "_view_module_version": "1.5.0",
            "_view_name": "HTMLView",
            "description": "",
            "description_tooltip": null,
            "layout": "IPY_MODEL_00d345cfed4c4f008df693f01b82afce",
            "placeholder": "​",
            "style": "IPY_MODEL_d186d3737bf34cfdaa852bfdf467df7b",
            "value": " 512/512 [00:00&lt;00:00, 17.0kB/s]"
          }
        },
        "e4de21499eb24a1596f7f1fff0ad3c94": {
          "model_module": "@jupyter-widgets/base",
          "model_name": "LayoutModel",
          "model_module_version": "1.2.0",
          "state": {
            "_model_module": "@jupyter-widgets/base",
            "_model_module_version": "1.2.0",
            "_model_name": "LayoutModel",
            "_view_count": null,
            "_view_module": "@jupyter-widgets/base",
            "_view_module_version": "1.2.0",
            "_view_name": "LayoutView",
            "align_content": null,
            "align_items": null,
            "align_self": null,
            "border": null,
            "bottom": null,
            "display": null,
            "flex": null,
            "flex_flow": null,
            "grid_area": null,
            "grid_auto_columns": null,
            "grid_auto_flow": null,
            "grid_auto_rows": null,
            "grid_column": null,
            "grid_gap": null,
            "grid_row": null,
            "grid_template_areas": null,
            "grid_template_columns": null,
            "grid_template_rows": null,
            "height": null,
            "justify_content": null,
            "justify_items": null,
            "left": null,
            "margin": null,
            "max_height": null,
            "max_width": null,
            "min_height": null,
            "min_width": null,
            "object_fit": null,
            "object_position": null,
            "order": null,
            "overflow": null,
            "overflow_x": null,
            "overflow_y": null,
            "padding": null,
            "right": null,
            "top": null,
            "visibility": null,
            "width": null
          }
        },
        "f80ebf5e11a74a5fa16016690432a88c": {
          "model_module": "@jupyter-widgets/base",
          "model_name": "LayoutModel",
          "model_module_version": "1.2.0",
          "state": {
            "_model_module": "@jupyter-widgets/base",
            "_model_module_version": "1.2.0",
            "_model_name": "LayoutModel",
            "_view_count": null,
            "_view_module": "@jupyter-widgets/base",
            "_view_module_version": "1.2.0",
            "_view_name": "LayoutView",
            "align_content": null,
            "align_items": null,
            "align_self": null,
            "border": null,
            "bottom": null,
            "display": null,
            "flex": null,
            "flex_flow": null,
            "grid_area": null,
            "grid_auto_columns": null,
            "grid_auto_flow": null,
            "grid_auto_rows": null,
            "grid_column": null,
            "grid_gap": null,
            "grid_row": null,
            "grid_template_areas": null,
            "grid_template_columns": null,
            "grid_template_rows": null,
            "height": null,
            "justify_content": null,
            "justify_items": null,
            "left": null,
            "margin": null,
            "max_height": null,
            "max_width": null,
            "min_height": null,
            "min_width": null,
            "object_fit": null,
            "object_position": null,
            "order": null,
            "overflow": null,
            "overflow_x": null,
            "overflow_y": null,
            "padding": null,
            "right": null,
            "top": null,
            "visibility": null,
            "width": null
          }
        },
        "401cd579922d48908a99ce2325b91838": {
          "model_module": "@jupyter-widgets/controls",
          "model_name": "DescriptionStyleModel",
          "model_module_version": "1.5.0",
          "state": {
            "_model_module": "@jupyter-widgets/controls",
            "_model_module_version": "1.5.0",
            "_model_name": "DescriptionStyleModel",
            "_view_count": null,
            "_view_module": "@jupyter-widgets/base",
            "_view_module_version": "1.2.0",
            "_view_name": "StyleView",
            "description_width": ""
          }
        },
        "87c4462e0a1f4175afbaf16673113a76": {
          "model_module": "@jupyter-widgets/base",
          "model_name": "LayoutModel",
          "model_module_version": "1.2.0",
          "state": {
            "_model_module": "@jupyter-widgets/base",
            "_model_module_version": "1.2.0",
            "_model_name": "LayoutModel",
            "_view_count": null,
            "_view_module": "@jupyter-widgets/base",
            "_view_module_version": "1.2.0",
            "_view_name": "LayoutView",
            "align_content": null,
            "align_items": null,
            "align_self": null,
            "border": null,
            "bottom": null,
            "display": null,
            "flex": null,
            "flex_flow": null,
            "grid_area": null,
            "grid_auto_columns": null,
            "grid_auto_flow": null,
            "grid_auto_rows": null,
            "grid_column": null,
            "grid_gap": null,
            "grid_row": null,
            "grid_template_areas": null,
            "grid_template_columns": null,
            "grid_template_rows": null,
            "height": null,
            "justify_content": null,
            "justify_items": null,
            "left": null,
            "margin": null,
            "max_height": null,
            "max_width": null,
            "min_height": null,
            "min_width": null,
            "object_fit": null,
            "object_position": null,
            "order": null,
            "overflow": null,
            "overflow_x": null,
            "overflow_y": null,
            "padding": null,
            "right": null,
            "top": null,
            "visibility": null,
            "width": null
          }
        },
        "d4a31c72e094440c969340ac7ca10002": {
          "model_module": "@jupyter-widgets/controls",
          "model_name": "ProgressStyleModel",
          "model_module_version": "1.5.0",
          "state": {
            "_model_module": "@jupyter-widgets/controls",
            "_model_module_version": "1.5.0",
            "_model_name": "ProgressStyleModel",
            "_view_count": null,
            "_view_module": "@jupyter-widgets/base",
            "_view_module_version": "1.2.0",
            "_view_name": "StyleView",
            "bar_color": null,
            "description_width": ""
          }
        },
        "00d345cfed4c4f008df693f01b82afce": {
          "model_module": "@jupyter-widgets/base",
          "model_name": "LayoutModel",
          "model_module_version": "1.2.0",
          "state": {
            "_model_module": "@jupyter-widgets/base",
            "_model_module_version": "1.2.0",
            "_model_name": "LayoutModel",
            "_view_count": null,
            "_view_module": "@jupyter-widgets/base",
            "_view_module_version": "1.2.0",
            "_view_name": "LayoutView",
            "align_content": null,
            "align_items": null,
            "align_self": null,
            "border": null,
            "bottom": null,
            "display": null,
            "flex": null,
            "flex_flow": null,
            "grid_area": null,
            "grid_auto_columns": null,
            "grid_auto_flow": null,
            "grid_auto_rows": null,
            "grid_column": null,
            "grid_gap": null,
            "grid_row": null,
            "grid_template_areas": null,
            "grid_template_columns": null,
            "grid_template_rows": null,
            "height": null,
            "justify_content": null,
            "justify_items": null,
            "left": null,
            "margin": null,
            "max_height": null,
            "max_width": null,
            "min_height": null,
            "min_width": null,
            "object_fit": null,
            "object_position": null,
            "order": null,
            "overflow": null,
            "overflow_x": null,
            "overflow_y": null,
            "padding": null,
            "right": null,
            "top": null,
            "visibility": null,
            "width": null
          }
        },
        "d186d3737bf34cfdaa852bfdf467df7b": {
          "model_module": "@jupyter-widgets/controls",
          "model_name": "DescriptionStyleModel",
          "model_module_version": "1.5.0",
          "state": {
            "_model_module": "@jupyter-widgets/controls",
            "_model_module_version": "1.5.0",
            "_model_name": "DescriptionStyleModel",
            "_view_count": null,
            "_view_module": "@jupyter-widgets/base",
            "_view_module_version": "1.2.0",
            "_view_name": "StyleView",
            "description_width": ""
          }
        },
        "266b06059401495bbe9f0bc556464880": {
          "model_module": "@jupyter-widgets/controls",
          "model_name": "HBoxModel",
          "model_module_version": "1.5.0",
          "state": {
            "_dom_classes": [],
            "_model_module": "@jupyter-widgets/controls",
            "_model_module_version": "1.5.0",
            "_model_name": "HBoxModel",
            "_view_count": null,
            "_view_module": "@jupyter-widgets/controls",
            "_view_module_version": "1.5.0",
            "_view_name": "HBoxView",
            "box_style": "",
            "children": [
              "IPY_MODEL_77bc174ef8e44cd7b1c71b78197012c6",
              "IPY_MODEL_fa3a87c1267c402ebce5640293bcf098",
              "IPY_MODEL_63e8f59c0bdc47b5a47833df586d34eb"
            ],
            "layout": "IPY_MODEL_8f3dbf50c04c46a387c9dbdbc3d42826"
          }
        },
        "77bc174ef8e44cd7b1c71b78197012c6": {
          "model_module": "@jupyter-widgets/controls",
          "model_name": "HTMLModel",
          "model_module_version": "1.5.0",
          "state": {
            "_dom_classes": [],
            "_model_module": "@jupyter-widgets/controls",
            "_model_module_version": "1.5.0",
            "_model_name": "HTMLModel",
            "_view_count": null,
            "_view_module": "@jupyter-widgets/controls",
            "_view_module_version": "1.5.0",
            "_view_name": "HTMLView",
            "description": "",
            "description_tooltip": null,
            "layout": "IPY_MODEL_0f7c661dbef44fabb88a0a82db7c1d11",
            "placeholder": "​",
            "style": "IPY_MODEL_3404e3bebc02480286dc60058673320a",
            "value": "Downloading: 100%"
          }
        },
        "fa3a87c1267c402ebce5640293bcf098": {
          "model_module": "@jupyter-widgets/controls",
          "model_name": "FloatProgressModel",
          "model_module_version": "1.5.0",
          "state": {
            "_dom_classes": [],
            "_model_module": "@jupyter-widgets/controls",
            "_model_module_version": "1.5.0",
            "_model_name": "FloatProgressModel",
            "_view_count": null,
            "_view_module": "@jupyter-widgets/controls",
            "_view_module_version": "1.5.0",
            "_view_name": "ProgressView",
            "bar_style": "success",
            "description": "",
            "description_tooltip": null,
            "layout": "IPY_MODEL_97da79349f1240fea1f3de8bd77a56a2",
            "max": 1115590446,
            "min": 0,
            "orientation": "horizontal",
            "style": "IPY_MODEL_de6e411d315f422c9efa5f90f7f700b1",
            "value": 1115590446
          }
        },
        "63e8f59c0bdc47b5a47833df586d34eb": {
          "model_module": "@jupyter-widgets/controls",
          "model_name": "HTMLModel",
          "model_module_version": "1.5.0",
          "state": {
            "_dom_classes": [],
            "_model_module": "@jupyter-widgets/controls",
            "_model_module_version": "1.5.0",
            "_model_name": "HTMLModel",
            "_view_count": null,
            "_view_module": "@jupyter-widgets/controls",
            "_view_module_version": "1.5.0",
            "_view_name": "HTMLView",
            "description": "",
            "description_tooltip": null,
            "layout": "IPY_MODEL_b053d73375ef4e8a8f555a76bd65afd0",
            "placeholder": "​",
            "style": "IPY_MODEL_e6a502df9bdc45d69302ce54b2aa9b15",
            "value": " 1.12G/1.12G [00:30&lt;00:00, 62.2MB/s]"
          }
        },
        "8f3dbf50c04c46a387c9dbdbc3d42826": {
          "model_module": "@jupyter-widgets/base",
          "model_name": "LayoutModel",
          "model_module_version": "1.2.0",
          "state": {
            "_model_module": "@jupyter-widgets/base",
            "_model_module_version": "1.2.0",
            "_model_name": "LayoutModel",
            "_view_count": null,
            "_view_module": "@jupyter-widgets/base",
            "_view_module_version": "1.2.0",
            "_view_name": "LayoutView",
            "align_content": null,
            "align_items": null,
            "align_self": null,
            "border": null,
            "bottom": null,
            "display": null,
            "flex": null,
            "flex_flow": null,
            "grid_area": null,
            "grid_auto_columns": null,
            "grid_auto_flow": null,
            "grid_auto_rows": null,
            "grid_column": null,
            "grid_gap": null,
            "grid_row": null,
            "grid_template_areas": null,
            "grid_template_columns": null,
            "grid_template_rows": null,
            "height": null,
            "justify_content": null,
            "justify_items": null,
            "left": null,
            "margin": null,
            "max_height": null,
            "max_width": null,
            "min_height": null,
            "min_width": null,
            "object_fit": null,
            "object_position": null,
            "order": null,
            "overflow": null,
            "overflow_x": null,
            "overflow_y": null,
            "padding": null,
            "right": null,
            "top": null,
            "visibility": null,
            "width": null
          }
        },
        "0f7c661dbef44fabb88a0a82db7c1d11": {
          "model_module": "@jupyter-widgets/base",
          "model_name": "LayoutModel",
          "model_module_version": "1.2.0",
          "state": {
            "_model_module": "@jupyter-widgets/base",
            "_model_module_version": "1.2.0",
            "_model_name": "LayoutModel",
            "_view_count": null,
            "_view_module": "@jupyter-widgets/base",
            "_view_module_version": "1.2.0",
            "_view_name": "LayoutView",
            "align_content": null,
            "align_items": null,
            "align_self": null,
            "border": null,
            "bottom": null,
            "display": null,
            "flex": null,
            "flex_flow": null,
            "grid_area": null,
            "grid_auto_columns": null,
            "grid_auto_flow": null,
            "grid_auto_rows": null,
            "grid_column": null,
            "grid_gap": null,
            "grid_row": null,
            "grid_template_areas": null,
            "grid_template_columns": null,
            "grid_template_rows": null,
            "height": null,
            "justify_content": null,
            "justify_items": null,
            "left": null,
            "margin": null,
            "max_height": null,
            "max_width": null,
            "min_height": null,
            "min_width": null,
            "object_fit": null,
            "object_position": null,
            "order": null,
            "overflow": null,
            "overflow_x": null,
            "overflow_y": null,
            "padding": null,
            "right": null,
            "top": null,
            "visibility": null,
            "width": null
          }
        },
        "3404e3bebc02480286dc60058673320a": {
          "model_module": "@jupyter-widgets/controls",
          "model_name": "DescriptionStyleModel",
          "model_module_version": "1.5.0",
          "state": {
            "_model_module": "@jupyter-widgets/controls",
            "_model_module_version": "1.5.0",
            "_model_name": "DescriptionStyleModel",
            "_view_count": null,
            "_view_module": "@jupyter-widgets/base",
            "_view_module_version": "1.2.0",
            "_view_name": "StyleView",
            "description_width": ""
          }
        },
        "97da79349f1240fea1f3de8bd77a56a2": {
          "model_module": "@jupyter-widgets/base",
          "model_name": "LayoutModel",
          "model_module_version": "1.2.0",
          "state": {
            "_model_module": "@jupyter-widgets/base",
            "_model_module_version": "1.2.0",
            "_model_name": "LayoutModel",
            "_view_count": null,
            "_view_module": "@jupyter-widgets/base",
            "_view_module_version": "1.2.0",
            "_view_name": "LayoutView",
            "align_content": null,
            "align_items": null,
            "align_self": null,
            "border": null,
            "bottom": null,
            "display": null,
            "flex": null,
            "flex_flow": null,
            "grid_area": null,
            "grid_auto_columns": null,
            "grid_auto_flow": null,
            "grid_auto_rows": null,
            "grid_column": null,
            "grid_gap": null,
            "grid_row": null,
            "grid_template_areas": null,
            "grid_template_columns": null,
            "grid_template_rows": null,
            "height": null,
            "justify_content": null,
            "justify_items": null,
            "left": null,
            "margin": null,
            "max_height": null,
            "max_width": null,
            "min_height": null,
            "min_width": null,
            "object_fit": null,
            "object_position": null,
            "order": null,
            "overflow": null,
            "overflow_x": null,
            "overflow_y": null,
            "padding": null,
            "right": null,
            "top": null,
            "visibility": null,
            "width": null
          }
        },
        "de6e411d315f422c9efa5f90f7f700b1": {
          "model_module": "@jupyter-widgets/controls",
          "model_name": "ProgressStyleModel",
          "model_module_version": "1.5.0",
          "state": {
            "_model_module": "@jupyter-widgets/controls",
            "_model_module_version": "1.5.0",
            "_model_name": "ProgressStyleModel",
            "_view_count": null,
            "_view_module": "@jupyter-widgets/base",
            "_view_module_version": "1.2.0",
            "_view_name": "StyleView",
            "bar_color": null,
            "description_width": ""
          }
        },
        "b053d73375ef4e8a8f555a76bd65afd0": {
          "model_module": "@jupyter-widgets/base",
          "model_name": "LayoutModel",
          "model_module_version": "1.2.0",
          "state": {
            "_model_module": "@jupyter-widgets/base",
            "_model_module_version": "1.2.0",
            "_model_name": "LayoutModel",
            "_view_count": null,
            "_view_module": "@jupyter-widgets/base",
            "_view_module_version": "1.2.0",
            "_view_name": "LayoutView",
            "align_content": null,
            "align_items": null,
            "align_self": null,
            "border": null,
            "bottom": null,
            "display": null,
            "flex": null,
            "flex_flow": null,
            "grid_area": null,
            "grid_auto_columns": null,
            "grid_auto_flow": null,
            "grid_auto_rows": null,
            "grid_column": null,
            "grid_gap": null,
            "grid_row": null,
            "grid_template_areas": null,
            "grid_template_columns": null,
            "grid_template_rows": null,
            "height": null,
            "justify_content": null,
            "justify_items": null,
            "left": null,
            "margin": null,
            "max_height": null,
            "max_width": null,
            "min_height": null,
            "min_width": null,
            "object_fit": null,
            "object_position": null,
            "order": null,
            "overflow": null,
            "overflow_x": null,
            "overflow_y": null,
            "padding": null,
            "right": null,
            "top": null,
            "visibility": null,
            "width": null
          }
        },
        "e6a502df9bdc45d69302ce54b2aa9b15": {
          "model_module": "@jupyter-widgets/controls",
          "model_name": "DescriptionStyleModel",
          "model_module_version": "1.5.0",
          "state": {
            "_model_module": "@jupyter-widgets/controls",
            "_model_module_version": "1.5.0",
            "_model_name": "DescriptionStyleModel",
            "_view_count": null,
            "_view_module": "@jupyter-widgets/base",
            "_view_module_version": "1.2.0",
            "_view_name": "StyleView",
            "description_width": ""
          }
        }
      }
    }
  },
  "nbformat": 4,
  "nbformat_minor": 0
}